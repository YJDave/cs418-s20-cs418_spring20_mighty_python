{
 "cells": [
  {
   "cell_type": "markdown",
   "metadata": {},
   "source": [
    "# EduWorth Introduction"
   ]
  },
  {
   "cell_type": "markdown",
   "metadata": {},
   "source": [
    "Many high schoolers must decide on whether to continue their education after their graduation or not. There are many different paths and oppurtunities that come afterward, but the most encouraged path is to continue education in a college or a university. The problem with this path is that it is very expensive choice and will take many years to obtain the degree. \n",
    "\n",
    "Questions<br>\n",
    "Is college the most financially responsible post-secondary education option?<br>\n",
    "Does the major of the degree and industry matter when going into college?"
   ]
  },
  {
   "cell_type": "markdown",
   "metadata": {},
   "source": [
    "## Data Sources"
   ]
  },
  {
   "cell_type": "markdown",
   "metadata": {},
   "source": [
    "<a href=\"https://nces.ed.gov/datalab/index.aspx\">National Center for Education Statistics</a> allows us to select variables for the data that they collected from <a href=\"https://www.data.gov/education/\">data.gov</a> and place them onto a table for us to visualize.\n",
    "\n",
    "<a href=\"https://collegescorecard.ed.gov/data/\">College Scorecard</a><br>\n",
    "We used this dataset for finding out additional information regarding the performance of students in classes.<br>\n",
    "\n",
    "<a href=\"https://research.collegeboard.org/trends/student-aid\">Trends in Student Aid 2019</a><br>This dataset gave us information on what kind of loans that students took out in 2019 and how much money they usually would takeout."
   ]
  },
  {
   "cell_type": "markdown",
   "metadata": {},
   "source": [
    "## Data Cleaning"
   ]
  },
  {
   "cell_type": "markdown",
   "metadata": {},
   "source": [
    "In the College Scorecard Dataset, there were about 1000 columns of different data types and acronyms. Some of these columns were so specific that we disregarded the information that the column recorded. Also in the College Scorecard Dataset, we had many entries where the information was either null or PrivacySuppressed. Whenever this happened, we would eliminate the row entirely when we pulled information out of it, so it would not mess with our recorded data."
   ]
  },
  {
   "cell_type": "markdown",
   "metadata": {},
   "source": [
    "## Exploratory Data Analysis"
   ]
  },
  {
   "cell_type": "markdown",
   "metadata": {},
   "source": [
    "For the College Scorecard Dataset, most of our data comes in as very large csv files or in excel workbooks. Each column has their own acronym and there is a separate document that highlights what does acronyms mean and a description or what is being recorded. <br>\n",
    "\n",
    "Meanwhile, for the trends in Student Aid 2019, msot of their data is recorded in a large Excel Workbook. Most notably about this dataset is the website it came from where it gives a highlighted <a href=\"https://research.collegeboard.org/trends/student-aid/highlights\">summary</a> of information about their dataset and specific trends that we can look up by topic. For example, the visuals on this <a href=\"https://research.collegeboard.org/trends/student-aid/figures-tables/average-aid-student-over-time#\">site</a> show how the average aid in 2018 dollars progressed from 1998 to 2019.<br>\n",
    "\n",
    "National Ccenter for Education Statistics "
   ]
  },
  {
   "cell_type": "markdown",
   "metadata": {},
   "source": [
    "## Visualization"
   ]
  },
  {
   "cell_type": "code",
   "execution_count": 2,
   "metadata": {
    "pycharm": {
     "name": "#%%\n"
    }
   },
   "outputs": [],
   "source": [
    "import pandas as pd\n",
    "import numpy as np\n",
    "import seaborn as sns\n",
    "%matplotlib inline\n",
    "import matplotlib.pyplot as plt"
   ]
  },
  {
   "cell_type": "markdown",
   "metadata": {},
   "source": [
    "Here we will look at the most recent college data brought to us by https://collegescorecard.ed.gov/data/"
   ]
  },
  {
   "cell_type": "code",
   "execution_count": 3,
   "metadata": {
    "pycharm": {
     "name": "#%%\n"
    }
   },
   "outputs": [],
   "source": [
    "college_data = pd.read_csv('CollegeScorecard_Raw_Data/MERGED2017_18_PP.csv', low_memory = False) # Opens our data into a dataframe"
   ]
  },
  {
   "cell_type": "code",
   "execution_count": 4,
   "metadata": {
    "pycharm": {
     "name": "#%%\n"
    }
   },
   "outputs": [
    {
     "name": "stdout",
     "output_type": "stream",
     "text": [
      "Mean median ACT Score:  23.525931928687196\n",
      "Max median ACT Score:  35.0\n",
      "Min median ACT Score:  6.0\n"
     ]
    },
    {
     "data": {
      "text/html": [
       "<div>\n",
       "<style scoped>\n",
       "    .dataframe tbody tr th:only-of-type {\n",
       "        vertical-align: middle;\n",
       "    }\n",
       "\n",
       "    .dataframe tbody tr th {\n",
       "        vertical-align: top;\n",
       "    }\n",
       "\n",
       "    .dataframe thead th {\n",
       "        text-align: right;\n",
       "    }\n",
       "</style>\n",
       "<table border=\"1\" class=\"dataframe\">\n",
       "  <thead>\n",
       "    <tr style=\"text-align: right;\">\n",
       "      <th></th>\n",
       "      <th>INSTNM</th>\n",
       "      <th>GRAD_DEBT_MDN10YR_SUPP</th>\n",
       "      <th>ACTCMMID</th>\n",
       "    </tr>\n",
       "  </thead>\n",
       "  <tbody>\n",
       "    <tr>\n",
       "      <th>0</th>\n",
       "      <td>Alabama A &amp; M University</td>\n",
       "      <td>358.0</td>\n",
       "      <td>18.0</td>\n",
       "    </tr>\n",
       "    <tr>\n",
       "      <th>1</th>\n",
       "      <td>University of Alabama at Birmingham</td>\n",
       "      <td>234.0</td>\n",
       "      <td>25.0</td>\n",
       "    </tr>\n",
       "    <tr>\n",
       "      <th>3</th>\n",
       "      <td>University of Alabama in Huntsville</td>\n",
       "      <td>229.0</td>\n",
       "      <td>28.0</td>\n",
       "    </tr>\n",
       "    <tr>\n",
       "      <th>4</th>\n",
       "      <td>Alabama State University</td>\n",
       "      <td>339.0</td>\n",
       "      <td>18.0</td>\n",
       "    </tr>\n",
       "    <tr>\n",
       "      <th>5</th>\n",
       "      <td>The University of Alabama</td>\n",
       "      <td>241.0</td>\n",
       "      <td>28.0</td>\n",
       "    </tr>\n",
       "    <tr>\n",
       "      <th>...</th>\n",
       "      <td>...</td>\n",
       "      <td>...</td>\n",
       "      <td>...</td>\n",
       "    </tr>\n",
       "    <tr>\n",
       "      <th>6437</th>\n",
       "      <td>Kennesaw State University</td>\n",
       "      <td>250.0</td>\n",
       "      <td>24.0</td>\n",
       "    </tr>\n",
       "    <tr>\n",
       "      <th>6442</th>\n",
       "      <td>Milligan College</td>\n",
       "      <td>251.0</td>\n",
       "      <td>25.0</td>\n",
       "    </tr>\n",
       "    <tr>\n",
       "      <th>6475</th>\n",
       "      <td>Husson University</td>\n",
       "      <td>280.0</td>\n",
       "      <td>23.0</td>\n",
       "    </tr>\n",
       "    <tr>\n",
       "      <th>6584</th>\n",
       "      <td>Piedmont International University</td>\n",
       "      <td>234.0</td>\n",
       "      <td>17.0</td>\n",
       "    </tr>\n",
       "    <tr>\n",
       "      <th>6643</th>\n",
       "      <td>Purdue University Northwest</td>\n",
       "      <td>217.0</td>\n",
       "      <td>22.0</td>\n",
       "    </tr>\n",
       "  </tbody>\n",
       "</table>\n",
       "<p>1234 rows × 3 columns</p>\n",
       "</div>"
      ],
      "text/plain": [
       "                                   INSTNM  GRAD_DEBT_MDN10YR_SUPP  ACTCMMID\n",
       "0                Alabama A & M University                   358.0      18.0\n",
       "1     University of Alabama at Birmingham                   234.0      25.0\n",
       "3     University of Alabama in Huntsville                   229.0      28.0\n",
       "4                Alabama State University                   339.0      18.0\n",
       "5               The University of Alabama                   241.0      28.0\n",
       "...                                   ...                     ...       ...\n",
       "6437            Kennesaw State University                   250.0      24.0\n",
       "6442                     Milligan College                   251.0      25.0\n",
       "6475                    Husson University                   280.0      23.0\n",
       "6584    Piedmont International University                   234.0      17.0\n",
       "6643          Purdue University Northwest                   217.0      22.0\n",
       "\n",
       "[1234 rows x 3 columns]"
      ]
     },
     "execution_count": 4,
     "metadata": {},
     "output_type": "execute_result"
    }
   ],
   "source": [
    "college_data['GRAD_DEBT_MDN10YR_SUPP'] = college_data['GRAD_DEBT_MDN10YR_SUPP'].replace(to_replace = 'PrivacySuppressed', value = np.nan) # Replace privacy suppressed with nan\n",
    "college_data = college_data.dropna(subset=['GRAD_DEBT_MDN10YR_SUPP', 'ACTCMMID', 'C100_4_POOLED']) # Get rid of nan values if either in graduate debt median for 10 years, or cumulative act score\n",
    "print(\"Mean median ACT Score: \", college_data['ACTCMMID'].mean())\n",
    "print(\"Max median ACT Score: \", college_data['ACTCMMID'].max())\n",
    "print(\"Min median ACT Score: \", college_data['ACTCMMID'].min())\n",
    "college_data['GRAD_DEBT_MDN10YR_SUPP']  = college_data[\"GRAD_DEBT_MDN10YR_SUPP\"].astype(float)\n",
    "college_data['GRAD_DEBT_MDN10YR_SUPP']  = college_data[\"GRAD_DEBT_MDN10YR_SUPP\"].round(0)\n",
    "# college_data['GRAD_DEBT_MDN10YR_SUPP'] = pd.to_numeric(college_data['GRAD_DEBT_MDN10YR_SUPP'], downcast='int')\n",
    "college_data['GRAD_DEBT_MDN10YR_SUPP'].unique()\n",
    "used_data = college_data[['INSTNM','GRAD_DEBT_MDN10YR_SUPP', 'ACTCMMID']]\n",
    "used_data"
   ]
  },
  {
   "cell_type": "code",
   "execution_count": 5,
   "metadata": {
    "pycharm": {
     "name": "#%%\n"
    }
   },
   "outputs": [
    {
     "data": {
      "text/plain": [
       "<matplotlib.axes._subplots.AxesSubplot at 0x1a285096d0>"
      ]
     },
     "execution_count": 5,
     "metadata": {},
     "output_type": "execute_result"
    },
    {
     "data": {
      "image/png": "[encoded data removed]",
      "text/plain": [
       "<Figure size 432x288 with 1 Axes>"
      ]
     },
     "metadata": {
      "needs_background": "light"
     },
     "output_type": "display_data"
    }
   ],
   "source": [
    "# ACT Score\n",
    "sns.distplot(used_data['ACTCMMID'])"
   ]
  },
  {
   "cell_type": "code",
   "execution_count": 6,
   "metadata": {
    "pycharm": {
     "name": "#%%\n"
    }
   },
   "outputs": [
    {
     "data": {
      "text/plain": [
       "<matplotlib.axes._subplots.AxesSubplot at 0x1a18bc9b50>"
      ]
     },
     "execution_count": 6,
     "metadata": {},
     "output_type": "execute_result"
    },
    {
     "data": {
      "image/png": "[encoded data removed]",
      "text/plain": [
       "<Figure size 432x288 with 1 Axes>"
      ]
     },
     "metadata": {
      "needs_background": "light"
     },
     "output_type": "display_data"
    }
   ],
   "source": [
    "sns.distplot(used_data['GRAD_DEBT_MDN10YR_SUPP'])"
   ]
  },
  {
   "cell_type": "code",
   "execution_count": 7,
   "metadata": {
    "pycharm": {
     "name": "#%%\n"
    }
   },
   "outputs": [
    {
     "data": {
      "image/png": "[encoded data removed]",
      "text/plain": [
       "<Figure size 432x288 with 1 Axes>"
      ]
     },
     "metadata": {
      "needs_background": "light"
     },
     "output_type": "display_data"
    }
   ],
   "source": [
    "sns.scatterplot(x=\"GRAD_DEBT_MDN10YR_SUPP\", y=\"ACTCMMID\", data=used_data)\n",
    "plt.xticks(np.arange(0, used_data['GRAD_DEBT_MDN10YR_SUPP'].max()+50, 50.0))\n",
    "plt.show()"
   ]
  },
  {
   "cell_type": "code",
   "execution_count": 83,
   "metadata": {},
   "outputs": [
    {
     "data": {
      "text/html": [
       "<div>\n",
       "<style scoped>\n",
       "    .dataframe tbody tr th:only-of-type {\n",
       "        vertical-align: middle;\n",
       "    }\n",
       "\n",
       "    .dataframe tbody tr th {\n",
       "        vertical-align: top;\n",
       "    }\n",
       "\n",
       "    .dataframe thead th {\n",
       "        text-align: right;\n",
       "    }\n",
       "</style>\n",
       "<table border=\"1\" class=\"dataframe\">\n",
       "  <thead>\n",
       "    <tr style=\"text-align: right;\">\n",
       "      <th></th>\n",
       "      <th>UNITID</th>\n",
       "      <th>OPEID6</th>\n",
       "      <th>INSTNM</th>\n",
       "      <th>CONTROL</th>\n",
       "      <th>MAIN</th>\n",
       "      <th>CIPCODE</th>\n",
       "      <th>CIPDESC</th>\n",
       "      <th>CREDLEV</th>\n",
       "      <th>CREDDESC</th>\n",
       "      <th>COUNT</th>\n",
       "      <th>DEBTMEDIAN</th>\n",
       "      <th>DEBTPAYMENT10YR</th>\n",
       "      <th>DEBTMEAN</th>\n",
       "      <th>TITLEIVCOUNT</th>\n",
       "      <th>EARNINGSCOUNT</th>\n",
       "      <th>MD_EARN_WNE</th>\n",
       "      <th>IPEDSCOUNT1</th>\n",
       "      <th>IPEDSCOUNT2</th>\n",
       "    </tr>\n",
       "  </thead>\n",
       "  <tbody>\n",
       "    <tr>\n",
       "      <th>0</th>\n",
       "      <td>100654.0</td>\n",
       "      <td>1002</td>\n",
       "      <td>Alabama A &amp; M University</td>\n",
       "      <td>Public</td>\n",
       "      <td>1</td>\n",
       "      <td>100</td>\n",
       "      <td>Agriculture, General.</td>\n",
       "      <td>3</td>\n",
       "      <td>Bachelors Degree</td>\n",
       "      <td>PrivacySuppressed</td>\n",
       "      <td>PrivacySuppressed</td>\n",
       "      <td>PrivacySuppressed</td>\n",
       "      <td>PrivacySuppressed</td>\n",
       "      <td>PrivacySuppressed</td>\n",
       "      <td>PrivacySuppressed</td>\n",
       "      <td>PrivacySuppressed</td>\n",
       "      <td>4.0</td>\n",
       "      <td>NaN</td>\n",
       "    </tr>\n",
       "    <tr>\n",
       "      <th>1</th>\n",
       "      <td>100654.0</td>\n",
       "      <td>1002</td>\n",
       "      <td>Alabama A &amp; M University</td>\n",
       "      <td>Public</td>\n",
       "      <td>1</td>\n",
       "      <td>101</td>\n",
       "      <td>Agricultural Business and Management.</td>\n",
       "      <td>3</td>\n",
       "      <td>Bachelors Degree</td>\n",
       "      <td>PrivacySuppressed</td>\n",
       "      <td>PrivacySuppressed</td>\n",
       "      <td>PrivacySuppressed</td>\n",
       "      <td>PrivacySuppressed</td>\n",
       "      <td>PrivacySuppressed</td>\n",
       "      <td>PrivacySuppressed</td>\n",
       "      <td>PrivacySuppressed</td>\n",
       "      <td>NaN</td>\n",
       "      <td>NaN</td>\n",
       "    </tr>\n",
       "    <tr>\n",
       "      <th>2</th>\n",
       "      <td>100654.0</td>\n",
       "      <td>1002</td>\n",
       "      <td>Alabama A &amp; M University</td>\n",
       "      <td>Public</td>\n",
       "      <td>1</td>\n",
       "      <td>109</td>\n",
       "      <td>Animal Sciences.</td>\n",
       "      <td>3</td>\n",
       "      <td>Bachelors Degree</td>\n",
       "      <td>PrivacySuppressed</td>\n",
       "      <td>PrivacySuppressed</td>\n",
       "      <td>PrivacySuppressed</td>\n",
       "      <td>31066</td>\n",
       "      <td>PrivacySuppressed</td>\n",
       "      <td>PrivacySuppressed</td>\n",
       "      <td>PrivacySuppressed</td>\n",
       "      <td>7.0</td>\n",
       "      <td>6.0</td>\n",
       "    </tr>\n",
       "    <tr>\n",
       "      <th>3</th>\n",
       "      <td>100654.0</td>\n",
       "      <td>1002</td>\n",
       "      <td>Alabama A &amp; M University</td>\n",
       "      <td>Public</td>\n",
       "      <td>1</td>\n",
       "      <td>110</td>\n",
       "      <td>Food Science and Technology.</td>\n",
       "      <td>3</td>\n",
       "      <td>Bachelors Degree</td>\n",
       "      <td>PrivacySuppressed</td>\n",
       "      <td>PrivacySuppressed</td>\n",
       "      <td>PrivacySuppressed</td>\n",
       "      <td>PrivacySuppressed</td>\n",
       "      <td>PrivacySuppressed</td>\n",
       "      <td>PrivacySuppressed</td>\n",
       "      <td>PrivacySuppressed</td>\n",
       "      <td>5.0</td>\n",
       "      <td>8.0</td>\n",
       "    </tr>\n",
       "    <tr>\n",
       "      <th>4</th>\n",
       "      <td>100654.0</td>\n",
       "      <td>1002</td>\n",
       "      <td>Alabama A &amp; M University</td>\n",
       "      <td>Public</td>\n",
       "      <td>1</td>\n",
       "      <td>110</td>\n",
       "      <td>Food Science and Technology.</td>\n",
       "      <td>5</td>\n",
       "      <td>Master's Degree</td>\n",
       "      <td>15</td>\n",
       "      <td>PrivacySuppressed</td>\n",
       "      <td>PrivacySuppressed</td>\n",
       "      <td>61527</td>\n",
       "      <td>PrivacySuppressed</td>\n",
       "      <td>PrivacySuppressed</td>\n",
       "      <td>PrivacySuppressed</td>\n",
       "      <td>9.0</td>\n",
       "      <td>10.0</td>\n",
       "    </tr>\n",
       "  </tbody>\n",
       "</table>\n",
       "</div>"
      ],
      "text/plain": [
       "     UNITID  OPEID6                    INSTNM CONTROL  MAIN  CIPCODE  \\\n",
       "0  100654.0    1002  Alabama A & M University  Public     1      100   \n",
       "1  100654.0    1002  Alabama A & M University  Public     1      101   \n",
       "2  100654.0    1002  Alabama A & M University  Public     1      109   \n",
       "3  100654.0    1002  Alabama A & M University  Public     1      110   \n",
       "4  100654.0    1002  Alabama A & M University  Public     1      110   \n",
       "\n",
       "                                 CIPDESC  CREDLEV           CREDDESC  \\\n",
       "0                  Agriculture, General.        3  Bachelors Degree   \n",
       "1  Agricultural Business and Management.        3  Bachelors Degree   \n",
       "2                       Animal Sciences.        3  Bachelors Degree   \n",
       "3           Food Science and Technology.        3  Bachelors Degree   \n",
       "4           Food Science and Technology.        5    Master's Degree   \n",
       "\n",
       "               COUNT         DEBTMEDIAN    DEBTPAYMENT10YR           DEBTMEAN  \\\n",
       "0  PrivacySuppressed  PrivacySuppressed  PrivacySuppressed  PrivacySuppressed   \n",
       "1  PrivacySuppressed  PrivacySuppressed  PrivacySuppressed  PrivacySuppressed   \n",
       "2  PrivacySuppressed  PrivacySuppressed  PrivacySuppressed              31066   \n",
       "3  PrivacySuppressed  PrivacySuppressed  PrivacySuppressed  PrivacySuppressed   \n",
       "4                 15  PrivacySuppressed  PrivacySuppressed              61527   \n",
       "\n",
       "        TITLEIVCOUNT      EARNINGSCOUNT        MD_EARN_WNE  IPEDSCOUNT1  \\\n",
       "0  PrivacySuppressed  PrivacySuppressed  PrivacySuppressed          4.0   \n",
       "1  PrivacySuppressed  PrivacySuppressed  PrivacySuppressed          NaN   \n",
       "2  PrivacySuppressed  PrivacySuppressed  PrivacySuppressed          7.0   \n",
       "3  PrivacySuppressed  PrivacySuppressed  PrivacySuppressed          5.0   \n",
       "4  PrivacySuppressed  PrivacySuppressed  PrivacySuppressed          9.0   \n",
       "\n",
       "   IPEDSCOUNT2  \n",
       "0          NaN  \n",
       "1          NaN  \n",
       "2          6.0  \n",
       "3          8.0  \n",
       "4         10.0  "
      ]
     },
     "execution_count": 83,
     "metadata": {},
     "output_type": "execute_result"
    }
   ],
   "source": [
    "field_data = pd.read_csv('CollegeScorecard_Raw_Data/FieldOfStudyData1516_1617_PP.csv', low_memory = False)\n",
    "field_data.head()"
   ]
  },
  {
   "cell_type": "code",
   "execution_count": 86,
   "metadata": {},
   "outputs": [
    {
     "name": "stderr",
     "output_type": "stream",
     "text": [
      "/Users/seanbarber/opt/anaconda3/lib/python3.7/site-packages/ipykernel_launcher.py:3: SettingWithCopyWarning: \n",
      "A value is trying to be set on a copy of a slice from a DataFrame.\n",
      "Try using .loc[row_indexer,col_indexer] = value instead\n",
      "\n",
      "See the caveats in the documentation: https://pandas.pydata.org/pandas-docs/stable/user_guide/indexing.html#returning-a-view-versus-a-copy\n",
      "  This is separate from the ipykernel package so we can avoid doing imports until\n"
     ]
    },
    {
     "data": {
      "image/png": "[encoded data removed]",
      "text/plain": [
       "<Figure size 432x288 with 1 Axes>"
      ]
     },
     "metadata": {
      "needs_background": "light"
     },
     "output_type": "display_data"
    },
    {
     "name": "stdout",
     "output_type": "stream",
     "text": [
      "Max salary:  MD_EARN_WNE    164400\n",
      "dtype: int64\n",
      "Min salary:  MD_EARN_WNE    4600\n",
      "dtype: int64\n",
      "Median salary:  MD_EARN_WNE    31116.0\n",
      "dtype: float64\n"
     ]
    }
   ],
   "source": [
    "field_data = field_data[['INSTNM', 'MD_EARN_WNE']]\n",
    "result = field_data[field_data.MD_EARN_WNE != 'PrivacySuppressed']\n",
    "result['MD_EARN_WNE'] = result['MD_EARN_WNE'].astype(int)\n",
    "final = result.groupby('INSTNM').mean().astype(int).sort_values('MD_EARN_WNE')\n",
    "sns.distplot(final)\n",
    "plt.show()\n",
    "print(\"Max salary: \", final.max())\n",
    "print(\"Min salary: \", final.min())\n",
    "print(\"Median salary: \", final.median())"
   ]
  },
  {
   "cell_type": "code",
   "execution_count": 10,
   "metadata": {},
   "outputs": [
    {
     "data": {
      "text/html": [
       "<div>\n",
       "<style scoped>\n",
       "    .dataframe tbody tr th:only-of-type {\n",
       "        vertical-align: middle;\n",
       "    }\n",
       "\n",
       "    .dataframe tbody tr th {\n",
       "        vertical-align: top;\n",
       "    }\n",
       "\n",
       "    .dataframe thead th {\n",
       "        text-align: right;\n",
       "    }\n",
       "</style>\n",
       "<table border=\"1\" class=\"dataframe\">\n",
       "  <thead>\n",
       "    <tr style=\"text-align: right;\">\n",
       "      <th></th>\n",
       "      <th>INSTNM</th>\n",
       "      <th>GRAD_DEBT_MDN10YR_SUPP</th>\n",
       "      <th>ACTCMMID</th>\n",
       "      <th>MD_EARN_WNE</th>\n",
       "    </tr>\n",
       "  </thead>\n",
       "  <tbody>\n",
       "    <tr>\n",
       "      <th>0</th>\n",
       "      <td>Alabama A &amp; M University</td>\n",
       "      <td>358.0</td>\n",
       "      <td>18.0</td>\n",
       "      <td>38141</td>\n",
       "    </tr>\n",
       "    <tr>\n",
       "      <th>1</th>\n",
       "      <td>University of Alabama at Birmingham</td>\n",
       "      <td>234.0</td>\n",
       "      <td>25.0</td>\n",
       "      <td>56064</td>\n",
       "    </tr>\n",
       "    <tr>\n",
       "      <th>2</th>\n",
       "      <td>University of Alabama in Huntsville</td>\n",
       "      <td>229.0</td>\n",
       "      <td>28.0</td>\n",
       "      <td>56275</td>\n",
       "    </tr>\n",
       "    <tr>\n",
       "      <th>3</th>\n",
       "      <td>Alabama State University</td>\n",
       "      <td>339.0</td>\n",
       "      <td>18.0</td>\n",
       "      <td>33863</td>\n",
       "    </tr>\n",
       "    <tr>\n",
       "      <th>4</th>\n",
       "      <td>The University of Alabama</td>\n",
       "      <td>241.0</td>\n",
       "      <td>28.0</td>\n",
       "      <td>44896</td>\n",
       "    </tr>\n",
       "  </tbody>\n",
       "</table>\n",
       "</div>"
      ],
      "text/plain": [
       "                                INSTNM  GRAD_DEBT_MDN10YR_SUPP  ACTCMMID  \\\n",
       "0             Alabama A & M University                   358.0      18.0   \n",
       "1  University of Alabama at Birmingham                   234.0      25.0   \n",
       "2  University of Alabama in Huntsville                   229.0      28.0   \n",
       "3             Alabama State University                   339.0      18.0   \n",
       "4            The University of Alabama                   241.0      28.0   \n",
       "\n",
       "   MD_EARN_WNE  \n",
       "0        38141  \n",
       "1        56064  \n",
       "2        56275  \n",
       "3        33863  \n",
       "4        44896  "
      ]
     },
     "execution_count": 10,
     "metadata": {},
     "output_type": "execute_result"
    }
   ],
   "source": [
    "combined_data = pd.merge(college_data, final, on='INSTNM')\n",
    "combined_data[['INSTNM','GRAD_DEBT_MDN10YR_SUPP', 'ACTCMMID', 'MD_EARN_WNE']].head()"
   ]
  },
  {
   "cell_type": "markdown",
   "metadata": {},
   "source": [
    "## Machine Learning Analysis"
   ]
  },
  {
   "cell_type": "markdown",
   "metadata": {},
   "source": [
    "Baseline Classifier"
   ]
  },
  {
   "cell_type": "code",
   "execution_count": 114,
   "metadata": {},
   "outputs": [
    {
     "name": "stdout",
     "output_type": "stream",
     "text": [
      "Baseline Classifier Score: 0.0034812880765883376\n"
     ]
    }
   ],
   "source": [
    "from sklearn.dummy import DummyClassifier\n",
    "features = ['ACTCMMID', 'TUITIONFEE_IN', 'D_PCTPELL_PCTFLOAN'] #'ACTCMMID', 'TUITIONFEE_IN', 'PCIP27', 'ADM_RATE', 'SAT_AVG'\n",
    "\n",
    "X = combined_data[features]\n",
    "y = combined_data['MD_EARN_WNE']\n",
    "dummy_clf = DummyClassifier(strategy=\"most_frequent\")\n",
    "dummy_clf.fit(X, y)\n",
    "print(\"Baseline Classifier Score: {0}\".format(dummy_clf.score(X, y)))"
   ]
  },
  {
   "cell_type": "code",
   "execution_count": 110,
   "metadata": {
    "pycharm": {
     "name": "#%%\n"
    }
   },
   "outputs": [
    {
     "name": "stdout",
     "output_type": "stream",
     "text": [
      "      ACTCMMID  TUITIONFEE_IN  D_PCTPELL_PCTFLOAN\n",
      "0         18.0         9857.0              4851.0\n",
      "1         25.0         8328.0             12369.0\n",
      "2         28.0        10280.0              6507.0\n",
      "3         18.0        11068.0              4727.0\n",
      "4         28.0        10780.0             32480.0\n",
      "...        ...            ...                 ...\n",
      "1144      18.0         7848.0              2261.0\n",
      "1145      24.0         6347.0             32166.0\n",
      "1146      25.0        32500.0               880.0\n",
      "1147      23.0        17561.0              2833.0\n",
      "1148      22.0         7582.0             14385.0\n",
      "\n",
      "[1149 rows x 3 columns]\n"
     ]
    },
    {
     "data": {
      "image/png": "[encoded data removed]",
      "text/plain": [
       "<Figure size 432x288 with 1 Axes>"
      ]
     },
     "metadata": {
      "needs_background": "light"
     },
     "output_type": "display_data"
    },
    {
     "data": {
      "image/png": "[encoded data removed]",
      "text/plain": [
       "<Figure size 432x288 with 1 Axes>"
      ]
     },
     "metadata": {
      "needs_background": "light"
     },
     "output_type": "display_data"
    },
    {
     "data": {
      "image/png": "[encoded data removed]",
      "text/plain": [
       "<Figure size 432x288 with 1 Axes>"
      ]
     },
     "metadata": {
      "needs_background": "light"
     },
     "output_type": "display_data"
    }
   ],
   "source": [
    "import numpy as np\n",
    "from sklearn import metrics, svm\n",
    "from sklearn.linear_model import LogisticRegression\n",
    "from sklearn import preprocessing\n",
    "from sklearn import utils\n",
    "from sklearn import linear_model\n",
    "from sklearn.svm import SVC\n",
    "from sklearn.model_selection import train_test_split\n",
    "from sklearn.preprocessing import MinMaxScaler\n",
    "from sklearn.neighbors import KNeighborsClassifier\n",
    "\n",
    "features = ['ACTCMMID', 'TUITIONFEE_IN', 'D_PCTPELL_PCTFLOAN'] #'ACTCMMID', 'TUITIONFEE_IN', 'PCIP27', 'ADM_RATE', 'SAT_AVG'\n",
    "\n",
    "X = combined_data[features]\n",
    "print(X)\n",
    "y = combined_data['MD_EARN_WNE']\n",
    "\n",
    "X_train, X_test, y_train, y_test = train_test_split(X, y, random_state=0)\n",
    "scaler = MinMaxScaler()\n",
    "X_train = scaler.fit_transform(X_train)\n",
    "X_test = scaler.transform(X_test)\n",
    "\n",
    "#Linear Regression\n",
    "lm = linear_model.LinearRegression()\n",
    "lm.fit(X_train, y_train)\n",
    "model = lm.fit(X_train, y_train)\n",
    "predictions = lm.predict(X_test)\n",
    "\n",
    "plt.title(\"Linear Regression Predictions vs Actual\")\n",
    "plt.scatter(y_test, predictions)\n",
    "plt.xlabel(\"Actual Values\")\n",
    "plt.ylabel(\"Predictions\")\n",
    "plt.show()\n",
    "\n",
    "#SVM\n",
    "svm = SVC()\n",
    "svm.fit(X_train, y_train)\n",
    "\n",
    "predictions = svm.predict(X_test)\n",
    "\n",
    "plt.title(\"SVM Predictions vs Actual\")\n",
    "plt.scatter(y_test, predictions)\n",
    "plt.xlabel(\"Actual Values\")\n",
    "plt.ylabel(\"Predictions\")\n",
    "plt.show()\n",
    "\n",
    "# KNN\n",
    "knn = KNeighborsClassifier()\n",
    "knn.fit(X_train, y_train)\n",
    "predictions = knn.predict(X_test)\n",
    "\n",
    "plt.title(\"KNN Predictions vs Actual\")\n",
    "plt.scatter(y_test, predictions)\n",
    "plt.xlabel(\"Actual Values\")\n",
    "plt.ylabel(\"Predictions\")\n",
    "plt.show()"
   ]
  },
  {
   "cell_type": "markdown",
   "metadata": {},
   "source": [
    "## Reflection"
   ]
  },
  {
   "cell_type": "markdown",
   "metadata": {},
   "source": [
    "The most difficult part of our project that we have encountered so far was finding the correct data in order to \n",
    "do the analysis we wanted. There was information online of college student debt but not by college major like we wanted. \n",
    "Therefore we decide to find a larger more vague dataset and transform the data to get what we needed. Our initial insight was \n",
    "ceratin majors would enable students to pay off their debt faster after graduation. Different job fields have higher starting\n",
    "pay then others allowing for some graduates to have more initial disposable income. \n",
    "\n",
    "Are there any concrete results you can show at this point? If not, why not? Going forward, what are the current biggest problems you’re facing? \n",
    "We still need to see if we can finish our classification before we can answer these questions. Currently we do not have an accurate classifier\n",
    "\n",
    "By now we would have liked to have our data analysis completly finished so we can move on to visualizing our data in a simple and effective way. However we need to spend more time building an effective classification model in order to give us something to visualize. Given our initial exploration of the data we believe that we have what we need to get an answer to our question. We will proceed with our original plan for the project and no big change will be necessary.\n",
    "\n",
    "\n"
   ]
  },
  {
   "cell_type": "markdown",
   "metadata": {},
   "source": [
    "## Next Steps"
   ]
  },
  {
   "cell_type": "markdown",
   "metadata": {
    "pycharm": {
     "name": "#%%\n"
    }
   },
   "source": [
    "The biggest step will be going through the data to learn the trends with the economic data. Currently our model has a bad training rate, and an even worse test rate. If we want to be able to predict how much money a person would likely earn based off their ACT/SAT, size of school, etc. we need to look for the trends in the data. We currently do not have an actual prediction available for people to use, that would also be a next step. We did not realize that the economic data we were looking for we already had, this is one big problem with the vast amount of data we have. In the next month, getting the classifier trained better by tuning the hyperparameters. The next goal after that is allowing people to enter their values in and getting a possible score of how much debt they would have to pay compared to how much they will likely earn."
   ]
  }
 ],
 "metadata": {
  "kernelspec": {
   "display_name": "Python 3",
   "language": "python",
   "name": "python3"
  },
  "language_info": {
   "codemirror_mode": {
    "name": "ipython",
    "version": 3
   },
   "file_extension": ".py",
   "mimetype": "text/x-python",
   "name": "python",
   "nbconvert_exporter": "python",
   "pygments_lexer": "ipython3",
   "version": "3.7.6"
  },
  "pycharm": {
   "stem_cell": {
    "cell_type": "raw",
    "metadata": {
     "collapsed": false
    },
    "source": []
   }
  }
 },
 "nbformat": 4,
 "nbformat_minor": 2
}
