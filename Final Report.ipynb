{
 "cells": [
  {
   "cell_type": "markdown",
   "metadata": {},
   "source": [
    "# Eduworth Introduction"
   ]
  },
  {
   "cell_type": "markdown",
   "metadata": {},
   "source": [
    "Many high schoolers must decide on whether to continue their education after their graduation or not. There are many different paths and oppurtunities that come afterward, but the most encouraged path is to continue education in a college or a university. The problem with this path is that it is very expensive choice and will take many years to obtain the degree. \n",
    "\n",
    "Questions<br>\n",
    "Is college the most financially responsible post-secondary education option?<br>\n",
    "Does the major of the degree and industry matter when going into college?"
   ]
  },
  {
   "cell_type": "markdown",
   "metadata": {},
   "source": [
    "## Steps of Project"
   ]
  },
  {
   "cell_type": "markdown",
   "metadata": {},
   "source": [
    "1. Obtain Data\n",
    "2. Clean Data\n",
    "3. Build Visualizations\n",
    "4. Build/Train A Classification Machine Learning Model\n"
   ]
  },
  {
   "cell_type": "markdown",
   "metadata": {},
   "source": [
    "## Data Sources"
   ]
  },
  {
   "cell_type": "markdown",
   "metadata": {},
   "source": [
    "<a href=\"https://nces.ed.gov/datalab/index.aspx\">National Center for Education Statistics</a> allows us to select variables for the data that they collected from <a href=\"https://www.data.gov/education/\">data.gov</a> and place them onto a table for us to visualize.\n",
    "\n",
    "<a href=\"https://collegescorecard.ed.gov/data/\">College Scorecard</a><br>\n",
    "We used this dataset for finding out additional information regarding the performance of students in classes.<br>\n",
    "\n",
    "<a href=\"https://research.collegeboard.org/trends/student-aid\">Trends in Student Aid 2019</a><br>This dataset gave us information on what kind of loans that students took out in 2019 and how much money they usually would takeout."
   ]
  },
  {
   "cell_type": "markdown",
   "metadata": {},
   "source": [
    "## Data Shape Before Cleaning"
   ]
  },
  {
   "cell_type": "markdown",
   "metadata": {},
   "source": [
    "In the College Scorecard Dataset, there are multiple data files which represent different years. In each file, there were about 1000 columns of different data types and acronyms and even more rows that represent all the different schools. Some of these columns were so specific that we disregarded the information that the column recorded. Also in the College Scorecard Dataset, we had many entries where the information was either null or PrivacySuppressed. Whenever this happened, we would eliminate the row entirely when we pulled information out of it, so it would not mess with our recorded data that we wanted.\n",
    "\n",
    "The cleaned code below is an example of the cleaning process we did where we would extract the specific columns we are interested in and remove the PrivacySuppressed."
   ]
  },
  {
   "cell_type": "markdown",
   "metadata": {},
   "source": [
    "## Cleaning Data Code"
   ]
  },
  {
   "cell_type": "code",
   "execution_count": 2,
   "metadata": {},
   "outputs": [
    {
     "data": {
      "text/html": [
       "<div>\n",
       "<style scoped>\n",
       "    .dataframe tbody tr th:only-of-type {\n",
       "        vertical-align: middle;\n",
       "    }\n",
       "\n",
       "    .dataframe tbody tr th {\n",
       "        vertical-align: top;\n",
       "    }\n",
       "\n",
       "    .dataframe thead th {\n",
       "        text-align: right;\n",
       "    }\n",
       "</style>\n",
       "<table border=\"1\" class=\"dataframe\">\n",
       "  <thead>\n",
       "    <tr style=\"text-align: right;\">\n",
       "      <th></th>\n",
       "      <th></th>\n",
       "      <th>MD_EARN_WNE</th>\n",
       "    </tr>\n",
       "    <tr>\n",
       "      <th>CIPDESC</th>\n",
       "      <th>INSTNM</th>\n",
       "      <th></th>\n",
       "    </tr>\n",
       "  </thead>\n",
       "  <tbody>\n",
       "    <tr>\n",
       "      <td>Accounting and Computer Science.</td>\n",
       "      <td>Lone Star College System</td>\n",
       "      <td>28100</td>\n",
       "    </tr>\n",
       "    <tr>\n",
       "      <td rowspan=\"4\" valign=\"top\">Accounting and Related Services.</td>\n",
       "      <td>Southern Careers Institute-Pharr</td>\n",
       "      <td>19200</td>\n",
       "    </tr>\n",
       "    <tr>\n",
       "      <td>Southern Careers Institute-San Antonio</td>\n",
       "      <td>19200</td>\n",
       "    </tr>\n",
       "    <tr>\n",
       "      <td>Southern Illinois University-Carbondale</td>\n",
       "      <td>45850</td>\n",
       "    </tr>\n",
       "    <tr>\n",
       "      <td>Southern Illinois University-Edwardsville</td>\n",
       "      <td>51350</td>\n",
       "    </tr>\n",
       "    <tr>\n",
       "      <td>...</td>\n",
       "      <td>...</td>\n",
       "      <td>...</td>\n",
       "    </tr>\n",
       "    <tr>\n",
       "      <td rowspan=\"5\" valign=\"top\">Zoology/Animal Biology.</td>\n",
       "      <td>Ohio State University-Main Campus</td>\n",
       "      <td>23400</td>\n",
       "    </tr>\n",
       "    <tr>\n",
       "      <td>Ohio University-Main Campus</td>\n",
       "      <td>27700</td>\n",
       "    </tr>\n",
       "    <tr>\n",
       "      <td>Oregon State University</td>\n",
       "      <td>20700</td>\n",
       "    </tr>\n",
       "    <tr>\n",
       "      <td>Miami University-Oxford</td>\n",
       "      <td>29300</td>\n",
       "    </tr>\n",
       "    <tr>\n",
       "      <td>Weber State University</td>\n",
       "      <td>23400</td>\n",
       "    </tr>\n",
       "  </tbody>\n",
       "</table>\n",
       "<p>38392 rows × 1 columns</p>\n",
       "</div>"
      ],
      "text/plain": [
       "                                                                            MD_EARN_WNE\n",
       "CIPDESC                          INSTNM                                                \n",
       "Accounting and Computer Science. Lone Star College System                         28100\n",
       "Accounting and Related Services. Southern Careers Institute-Pharr                 19200\n",
       "                                 Southern Careers Institute-San Antonio           19200\n",
       "                                 Southern Illinois University-Carbondale          45850\n",
       "                                 Southern Illinois University-Edwardsville        51350\n",
       "...                                                                                 ...\n",
       "Zoology/Animal Biology.          Ohio State University-Main Campus                23400\n",
       "                                 Ohio University-Main Campus                      27700\n",
       "                                 Oregon State University                          20700\n",
       "                                 Miami University-Oxford                          29300\n",
       "                                 Weber State University                           23400\n",
       "\n",
       "[38392 rows x 1 columns]"
      ]
     },
     "execution_count": 2,
     "metadata": {},
     "output_type": "execute_result"
    }
   ],
   "source": [
    "import pandas as pd\n",
    "pd.set_option('mode.chained_assignment', None)\n",
    "\n",
    "field_data = pd.read_csv('CollegeScorecard_Raw_Data/FieldOfStudyData1516_1617_PP.csv', low_memory = False)\n",
    "field_data = field_data[['INSTNM', 'MD_EARN_WNE','CIPDESC']]\n",
    "result = field_data[field_data.MD_EARN_WNE != 'PrivacySuppressed']\n",
    "result['MD_EARN_WNE'] = result['MD_EARN_WNE'].astype(int)\n",
    "result = result.groupby(['CIPDESC', 'INSTNM']).mean().astype(int).sort_values('CIPDESC')\n",
    "result"
   ]
  },
  {
   "cell_type": "markdown",
   "metadata": {},
   "source": [
    "This is an exmaple of some of the cleaning data that we do. There are large portions of the data that are \"PrivacySuppressed” which do not provide any important information."
   ]
  },
  {
   "cell_type": "markdown",
   "metadata": {},
   "source": [
    "## Cleaned Data File"
   ]
  },
  {
   "cell_type": "code",
   "execution_count": 3,
   "metadata": {},
   "outputs": [
    {
     "data": {
      "text/html": [
       "<div>\n",
       "<style scoped>\n",
       "    .dataframe tbody tr th:only-of-type {\n",
       "        vertical-align: middle;\n",
       "    }\n",
       "\n",
       "    .dataframe tbody tr th {\n",
       "        vertical-align: top;\n",
       "    }\n",
       "\n",
       "    .dataframe thead th {\n",
       "        text-align: right;\n",
       "    }\n",
       "</style>\n",
       "<table border=\"1\" class=\"dataframe\">\n",
       "  <thead>\n",
       "    <tr style=\"text-align: right;\">\n",
       "      <th></th>\n",
       "      <th>INSTNM</th>\n",
       "      <th>ST_FIPS</th>\n",
       "      <th>STABBR</th>\n",
       "      <th>LATITUDE</th>\n",
       "      <th>LONGITUDE</th>\n",
       "      <th>SAT_AVG</th>\n",
       "      <th>UNITID</th>\n",
       "      <th>OPEID6</th>\n",
       "      <th>CONTROL</th>\n",
       "      <th>MAIN</th>\n",
       "      <th>...</th>\n",
       "      <th>COUNT</th>\n",
       "      <th>DEBTMEDIAN</th>\n",
       "      <th>DEBTPAYMENT10YR</th>\n",
       "      <th>DEBTMEAN</th>\n",
       "      <th>TITLEIVCOUNT</th>\n",
       "      <th>EARNINGSCOUNT</th>\n",
       "      <th>MD_EARN_WNE</th>\n",
       "      <th>IPEDSCOUNT1</th>\n",
       "      <th>IPEDSCOUNT2</th>\n",
       "      <th>BESTVALUE</th>\n",
       "    </tr>\n",
       "  </thead>\n",
       "  <tbody>\n",
       "    <tr>\n",
       "      <td>0</td>\n",
       "      <td>Alabama A &amp; M University</td>\n",
       "      <td>1</td>\n",
       "      <td>AL</td>\n",
       "      <td>34.783368</td>\n",
       "      <td>-86.568502</td>\n",
       "      <td>929.0</td>\n",
       "      <td>100654.0</td>\n",
       "      <td>1002</td>\n",
       "      <td>Public</td>\n",
       "      <td>1</td>\n",
       "      <td>...</td>\n",
       "      <td>25</td>\n",
       "      <td>36250</td>\n",
       "      <td>376</td>\n",
       "      <td>37194</td>\n",
       "      <td>33</td>\n",
       "      <td>33</td>\n",
       "      <td>54300</td>\n",
       "      <td>17.0</td>\n",
       "      <td>16.0</td>\n",
       "      <td>1.497931</td>\n",
       "    </tr>\n",
       "    <tr>\n",
       "      <td>1</td>\n",
       "      <td>Alabama A &amp; M University</td>\n",
       "      <td>1</td>\n",
       "      <td>AL</td>\n",
       "      <td>34.783368</td>\n",
       "      <td>-86.568502</td>\n",
       "      <td>929.0</td>\n",
       "      <td>100654.0</td>\n",
       "      <td>1002</td>\n",
       "      <td>Public</td>\n",
       "      <td>1</td>\n",
       "      <td>...</td>\n",
       "      <td>46</td>\n",
       "      <td>31505</td>\n",
       "      <td>327</td>\n",
       "      <td>33085</td>\n",
       "      <td>32</td>\n",
       "      <td>31</td>\n",
       "      <td>25400</td>\n",
       "      <td>24.0</td>\n",
       "      <td>33.0</td>\n",
       "      <td>0.806221</td>\n",
       "    </tr>\n",
       "    <tr>\n",
       "      <td>2</td>\n",
       "      <td>Alabama A &amp; M University</td>\n",
       "      <td>1</td>\n",
       "      <td>AL</td>\n",
       "      <td>34.783368</td>\n",
       "      <td>-86.568502</td>\n",
       "      <td>929.0</td>\n",
       "      <td>100654.0</td>\n",
       "      <td>1002</td>\n",
       "      <td>Public</td>\n",
       "      <td>1</td>\n",
       "      <td>...</td>\n",
       "      <td>22</td>\n",
       "      <td>34809</td>\n",
       "      <td>361</td>\n",
       "      <td>36482</td>\n",
       "      <td>33</td>\n",
       "      <td>31</td>\n",
       "      <td>54500</td>\n",
       "      <td>19.0</td>\n",
       "      <td>11.0</td>\n",
       "      <td>1.565687</td>\n",
       "    </tr>\n",
       "    <tr>\n",
       "      <td>3</td>\n",
       "      <td>Alabama A &amp; M University</td>\n",
       "      <td>1</td>\n",
       "      <td>AL</td>\n",
       "      <td>34.783368</td>\n",
       "      <td>-86.568502</td>\n",
       "      <td>929.0</td>\n",
       "      <td>100654.0</td>\n",
       "      <td>1002</td>\n",
       "      <td>Public</td>\n",
       "      <td>1</td>\n",
       "      <td>...</td>\n",
       "      <td>PrivacySuppressed</td>\n",
       "      <td>36928</td>\n",
       "      <td>383</td>\n",
       "      <td>38900</td>\n",
       "      <td>24</td>\n",
       "      <td>24</td>\n",
       "      <td>45800</td>\n",
       "      <td>13.0</td>\n",
       "      <td>17.0</td>\n",
       "      <td>1.240251</td>\n",
       "    </tr>\n",
       "    <tr>\n",
       "      <td>4</td>\n",
       "      <td>Alabama A &amp; M University</td>\n",
       "      <td>1</td>\n",
       "      <td>AL</td>\n",
       "      <td>34.783368</td>\n",
       "      <td>-86.568502</td>\n",
       "      <td>929.0</td>\n",
       "      <td>100654.0</td>\n",
       "      <td>1002</td>\n",
       "      <td>Public</td>\n",
       "      <td>1</td>\n",
       "      <td>...</td>\n",
       "      <td>39</td>\n",
       "      <td>29956</td>\n",
       "      <td>311</td>\n",
       "      <td>30970</td>\n",
       "      <td>30</td>\n",
       "      <td>30</td>\n",
       "      <td>24000</td>\n",
       "      <td>28.0</td>\n",
       "      <td>28.0</td>\n",
       "      <td>0.801175</td>\n",
       "    </tr>\n",
       "    <tr>\n",
       "      <td>...</td>\n",
       "      <td>...</td>\n",
       "      <td>...</td>\n",
       "      <td>...</td>\n",
       "      <td>...</td>\n",
       "      <td>...</td>\n",
       "      <td>...</td>\n",
       "      <td>...</td>\n",
       "      <td>...</td>\n",
       "      <td>...</td>\n",
       "      <td>...</td>\n",
       "      <td>...</td>\n",
       "      <td>...</td>\n",
       "      <td>...</td>\n",
       "      <td>...</td>\n",
       "      <td>...</td>\n",
       "      <td>...</td>\n",
       "      <td>...</td>\n",
       "      <td>...</td>\n",
       "      <td>...</td>\n",
       "      <td>...</td>\n",
       "      <td>...</td>\n",
       "    </tr>\n",
       "    <tr>\n",
       "      <td>15868</td>\n",
       "      <td>Purdue University Northwest</td>\n",
       "      <td>18</td>\n",
       "      <td>IN</td>\n",
       "      <td>41.584324</td>\n",
       "      <td>-87.474236</td>\n",
       "      <td>1082.0</td>\n",
       "      <td>490805.0</td>\n",
       "      <td>1827</td>\n",
       "      <td>Public</td>\n",
       "      <td>1</td>\n",
       "      <td>...</td>\n",
       "      <td>662</td>\n",
       "      <td>18750</td>\n",
       "      <td>195</td>\n",
       "      <td>21147</td>\n",
       "      <td>388</td>\n",
       "      <td>385</td>\n",
       "      <td>64300</td>\n",
       "      <td>NaN</td>\n",
       "      <td>815.0</td>\n",
       "      <td>3.429333</td>\n",
       "    </tr>\n",
       "    <tr>\n",
       "      <td>15869</td>\n",
       "      <td>Purdue University Northwest</td>\n",
       "      <td>18</td>\n",
       "      <td>IN</td>\n",
       "      <td>41.584324</td>\n",
       "      <td>-87.474236</td>\n",
       "      <td>1082.0</td>\n",
       "      <td>490805.0</td>\n",
       "      <td>1827</td>\n",
       "      <td>Public</td>\n",
       "      <td>1</td>\n",
       "      <td>...</td>\n",
       "      <td>162</td>\n",
       "      <td>22438</td>\n",
       "      <td>233</td>\n",
       "      <td>24239</td>\n",
       "      <td>80</td>\n",
       "      <td>80</td>\n",
       "      <td>37900</td>\n",
       "      <td>NaN</td>\n",
       "      <td>155.0</td>\n",
       "      <td>1.689099</td>\n",
       "    </tr>\n",
       "    <tr>\n",
       "      <td>15870</td>\n",
       "      <td>Purdue University Northwest</td>\n",
       "      <td>18</td>\n",
       "      <td>IN</td>\n",
       "      <td>41.584324</td>\n",
       "      <td>-87.474236</td>\n",
       "      <td>1082.0</td>\n",
       "      <td>490805.0</td>\n",
       "      <td>1827</td>\n",
       "      <td>Public</td>\n",
       "      <td>1</td>\n",
       "      <td>...</td>\n",
       "      <td>44</td>\n",
       "      <td>22674</td>\n",
       "      <td>235</td>\n",
       "      <td>23887</td>\n",
       "      <td>25</td>\n",
       "      <td>25</td>\n",
       "      <td>36000</td>\n",
       "      <td>NaN</td>\n",
       "      <td>38.0</td>\n",
       "      <td>1.587722</td>\n",
       "    </tr>\n",
       "    <tr>\n",
       "      <td>15871</td>\n",
       "      <td>Purdue University Northwest</td>\n",
       "      <td>18</td>\n",
       "      <td>IN</td>\n",
       "      <td>41.584324</td>\n",
       "      <td>-87.474236</td>\n",
       "      <td>1082.0</td>\n",
       "      <td>490805.0</td>\n",
       "      <td>1827</td>\n",
       "      <td>Public</td>\n",
       "      <td>1</td>\n",
       "      <td>...</td>\n",
       "      <td>51</td>\n",
       "      <td>22250</td>\n",
       "      <td>231</td>\n",
       "      <td>24934</td>\n",
       "      <td>24</td>\n",
       "      <td>23</td>\n",
       "      <td>25200</td>\n",
       "      <td>NaN</td>\n",
       "      <td>45.0</td>\n",
       "      <td>1.132584</td>\n",
       "    </tr>\n",
       "    <tr>\n",
       "      <td>15872</td>\n",
       "      <td>Purdue University Northwest</td>\n",
       "      <td>18</td>\n",
       "      <td>IN</td>\n",
       "      <td>41.584324</td>\n",
       "      <td>-87.474236</td>\n",
       "      <td>1082.0</td>\n",
       "      <td>490805.0</td>\n",
       "      <td>1827</td>\n",
       "      <td>Public</td>\n",
       "      <td>1</td>\n",
       "      <td>...</td>\n",
       "      <td>PrivacySuppressed</td>\n",
       "      <td>19000</td>\n",
       "      <td>197</td>\n",
       "      <td>21412</td>\n",
       "      <td>PrivacySuppressed</td>\n",
       "      <td>PrivacySuppressed</td>\n",
       "      <td>33500</td>\n",
       "      <td>NaN</td>\n",
       "      <td>NaN</td>\n",
       "      <td>1.763158</td>\n",
       "    </tr>\n",
       "  </tbody>\n",
       "</table>\n",
       "<p>15873 rows × 24 columns</p>\n",
       "</div>"
      ],
      "text/plain": [
       "                            INSTNM  ST_FIPS STABBR   LATITUDE  LONGITUDE  \\\n",
       "0         Alabama A & M University        1     AL  34.783368 -86.568502   \n",
       "1         Alabama A & M University        1     AL  34.783368 -86.568502   \n",
       "2         Alabama A & M University        1     AL  34.783368 -86.568502   \n",
       "3         Alabama A & M University        1     AL  34.783368 -86.568502   \n",
       "4         Alabama A & M University        1     AL  34.783368 -86.568502   \n",
       "...                            ...      ...    ...        ...        ...   \n",
       "15868  Purdue University Northwest       18     IN  41.584324 -87.474236   \n",
       "15869  Purdue University Northwest       18     IN  41.584324 -87.474236   \n",
       "15870  Purdue University Northwest       18     IN  41.584324 -87.474236   \n",
       "15871  Purdue University Northwest       18     IN  41.584324 -87.474236   \n",
       "15872  Purdue University Northwest       18     IN  41.584324 -87.474236   \n",
       "\n",
       "       SAT_AVG    UNITID  OPEID6 CONTROL  MAIN  ...              COUNT  \\\n",
       "0        929.0  100654.0    1002  Public     1  ...                 25   \n",
       "1        929.0  100654.0    1002  Public     1  ...                 46   \n",
       "2        929.0  100654.0    1002  Public     1  ...                 22   \n",
       "3        929.0  100654.0    1002  Public     1  ...  PrivacySuppressed   \n",
       "4        929.0  100654.0    1002  Public     1  ...                 39   \n",
       "...        ...       ...     ...     ...   ...  ...                ...   \n",
       "15868   1082.0  490805.0    1827  Public     1  ...                662   \n",
       "15869   1082.0  490805.0    1827  Public     1  ...                162   \n",
       "15870   1082.0  490805.0    1827  Public     1  ...                 44   \n",
       "15871   1082.0  490805.0    1827  Public     1  ...                 51   \n",
       "15872   1082.0  490805.0    1827  Public     1  ...  PrivacySuppressed   \n",
       "\n",
       "      DEBTMEDIAN  DEBTPAYMENT10YR DEBTMEAN       TITLEIVCOUNT  \\\n",
       "0          36250              376    37194                 33   \n",
       "1          31505              327    33085                 32   \n",
       "2          34809              361    36482                 33   \n",
       "3          36928              383    38900                 24   \n",
       "4          29956              311    30970                 30   \n",
       "...          ...              ...      ...                ...   \n",
       "15868      18750              195    21147                388   \n",
       "15869      22438              233    24239                 80   \n",
       "15870      22674              235    23887                 25   \n",
       "15871      22250              231    24934                 24   \n",
       "15872      19000              197    21412  PrivacySuppressed   \n",
       "\n",
       "           EARNINGSCOUNT  MD_EARN_WNE IPEDSCOUNT1 IPEDSCOUNT2 BESTVALUE  \n",
       "0                     33        54300        17.0        16.0  1.497931  \n",
       "1                     31        25400        24.0        33.0  0.806221  \n",
       "2                     31        54500        19.0        11.0  1.565687  \n",
       "3                     24        45800        13.0        17.0  1.240251  \n",
       "4                     30        24000        28.0        28.0  0.801175  \n",
       "...                  ...          ...         ...         ...       ...  \n",
       "15868                385        64300         NaN       815.0  3.429333  \n",
       "15869                 80        37900         NaN       155.0  1.689099  \n",
       "15870                 25        36000         NaN        38.0  1.587722  \n",
       "15871                 23        25200         NaN        45.0  1.132584  \n",
       "15872  PrivacySuppressed        33500         NaN         NaN  1.763158  \n",
       "\n",
       "[15873 rows x 24 columns]"
      ]
     },
     "execution_count": 3,
     "metadata": {},
     "output_type": "execute_result"
    }
   ],
   "source": [
    "result = pd.read_csv('data/best_value_data.csv')\n",
    "result"
   ]
  },
  {
   "cell_type": "markdown",
   "metadata": {},
   "source": [
    "TODO:\n",
    "1. Shape of data before cleaning\n",
    "2. A couple of the cleaning lines \n",
    "3. Cleaned Data File"
   ]
  },
  {
   "cell_type": "markdown",
   "metadata": {},
   "source": [
    "# Machine Learning"
   ]
  },
  {
   "cell_type": "markdown",
   "metadata": {},
   "source": [
    "To make classification possible, we needed to add some values to classify on. We were looking at the best value schools and deemed that a value of 1.5 and above would result in a sufficient amount of money to pay off your loans. So a True/False category was added into our dataframe. We tried 3 different parameter sets, (Major), (School), and (School Average)\n",
    "\n",
    "Our baseline classifier for each of these was the DummyClassifier provided by ```sklearn```"
   ]
  },
  {
   "cell_type": "code",
   "execution_count": 3,
   "metadata": {},
   "outputs": [],
   "source": [
    "from classifierClasses import *"
   ]
  },
  {
   "cell_type": "code",
   "execution_count": 4,
   "metadata": {},
   "outputs": [
    {
     "name": "stdout",
     "output_type": "stream",
     "text": [
      "Baseline Classifier Accuracy: 0.5797101449275363\n",
      "SVM Accuracy: 0.9565217391304348\n"
     ]
    }
   ],
   "source": [
    "ClassifyByMajor()"
   ]
  },
  {
   "cell_type": "code",
   "execution_count": 5,
   "metadata": {},
   "outputs": [
    {
     "name": "stdout",
     "output_type": "stream",
     "text": [
      "Baseline Classifier Accuracy: 0.49710108394252583\n",
      "SVM Accuracy: 0.9432820771363751\n"
     ]
    }
   ],
   "source": [
    "ClassifyByAllSchools()"
   ]
  },
  {
   "cell_type": "code",
   "execution_count": 6,
   "metadata": {},
   "outputs": [
    {
     "name": "stdout",
     "output_type": "stream",
     "text": [
      "Baseline Classifier Accuracy: 0.46503496503496505\n",
      "SVM Accuracy: 0.9020979020979021\n"
     ]
    }
   ],
   "source": [
    "ClassifyBySchool()"
   ]
  },
  {
   "cell_type": "markdown",
   "metadata": {},
   "source": [
    "Classifying by all schools provides us the best accuracy rate, let's try this using K-Nearest-Neighbors"
   ]
  },
  {
   "cell_type": "code",
   "execution_count": 7,
   "metadata": {},
   "outputs": [
    {
     "name": "stdout",
     "output_type": "stream",
     "text": [
      "Baseline Classifier Accuracy: 0.534965034965035\n",
      "KNN Accuracy: 0.9090909090909091\n"
     ]
    }
   ],
   "source": [
    "KNNClassifyByAllSchools()"
   ]
  },
  {
   "cell_type": "markdown",
   "metadata": {},
   "source": [
    "K-Nearest Neighbors did not provide a better accuracy rate than our SVM"
   ]
  },
  {
   "cell_type": "markdown",
   "metadata": {},
   "source": [
    "TODO: Maybe add a visualization?"
   ]
  },
  {
   "cell_type": "markdown",
   "metadata": {},
   "source": [
    "# Visualization"
   ]
  },
  {
   "cell_type": "markdown",
   "metadata": {},
   "source": [
    "![Loan Distribution Data](imgs/loan_dist.png)"
   ]
  },
  {
   "cell_type": "markdown",
   "metadata": {},
   "source": [
    "This visualizations shows us the most common amount of money taken in loans. This gives us insight on how much going to college costs and why it is a large financial decision to make for upcoming freshman.\n",
    "\n",
    "Visit https://datastudio.google.com/open/1g6G-O8LygSsjNdDV32BJNbLDH6IjJqIA to see our visualization for the student debt and student earnings (one year post graduation) by major and school in table form. \n",
    "\n",
    "This visualization provides an easy way for students to see their prospective choices for a school. This does not provide intution though as how schools compare to each other.\n",
    "\n",
    "For example, majoring in CS at Duke University the average earnings is 99,600 with a debt of 7,890. Majoring in CS at UIUC earns an average of 92,200 with a debt of 19,500. Comparing this to another university requires directly comparing the values which does not provide a good intution.\n",
    "\n",
    "Visit https://datastudio.google.com/u/0/reporting/1UYDnVQdFf6_hKf1z2TgFMWtHsNvXl8s6/page/5WZNB to see our visualization for \"Best Value\" schools on a map of the United States\n",
    "\n",
    "\"Best Value\" is where we took students major at each school and divided their earnings one year post graduation by their debt accumulated. This visualization provides prospective students to see what major at what schools provide the best value. You can search by state and by major.\n",
    "\n",
    "An example is I want to go to school in either Iowa, Illinois, or Indiana and major in Computer Science. The most vibrant blue dot would show the highest value. In this instance Northwestern University provides the best value."
   ]
  },
  {
   "cell_type": "markdown",
   "metadata": {},
   "source": [
    "# Results"
   ]
  },
  {
   "cell_type": "markdown",
   "metadata": {},
   "source": [
    "TODO:\n",
    "1. "
   ]
  }
 ],
 "metadata": {
  "kernelspec": {
   "display_name": "Python 3",
   "language": "python",
   "name": "python3"
  },
  "language_info": {
   "codemirror_mode": {
    "name": "ipython",
    "version": 3
   },
   "file_extension": ".py",
   "mimetype": "text/x-python",
   "name": "python",
   "nbconvert_exporter": "python",
   "pygments_lexer": "ipython3",
   "version": "3.7.4"
  }
 },
 "nbformat": 4,
 "nbformat_minor": 4
}
