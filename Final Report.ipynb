{
 "cells": [
  {
   "cell_type": "markdown",
   "metadata": {},
   "source": [
    "# Eduworth Introduction"
   ]
  },
  {
   "cell_type": "markdown",
   "metadata": {},
   "source": [
    "Many high schoolers must decide on whether to continue their education after their graduation or not. There are many different paths and oppurtunities that come afterward, but the most encouraged path is to continue education in a college or a university. The problem with this path is that it is very expensive choice and will take many years to obtain the degree. \n",
    "\n",
    "Questions<br>\n",
    "Is college the most financially responsible post-secondary education option?<br>\n",
    "Does the major of the degree and industry matter when going into college?"
   ]
  },
  {
   "cell_type": "markdown",
   "metadata": {},
   "source": [
    "## Steps of Project"
   ]
  },
  {
   "cell_type": "markdown",
   "metadata": {},
   "source": [
    "1. Obtain Data\n",
    "2. Clean Data\n",
    "3. Build Visualizations\n",
    "4. Build/Train A Classification Machine Learning Model\n"
   ]
  },
  {
   "cell_type": "markdown",
   "metadata": {},
   "source": [
    "## Data Sources"
   ]
  },
  {
   "cell_type": "markdown",
   "metadata": {},
   "source": [
    "<a href=\"https://nces.ed.gov/datalab/index.aspx\">National Center for Education Statistics</a> allows us to select variables for the data that they collected from <a href=\"https://www.data.gov/education/\">data.gov</a> and place them onto a table for us to visualize.\n",
    "\n",
    "<a href=\"https://collegescorecard.ed.gov/data/\">College Scorecard</a><br>\n",
    "We used this dataset for finding out additional information regarding the performance of students in classes.<br>\n",
    "\n",
    "<a href=\"https://research.collegeboard.org/trends/student-aid\">Trends in Student Aid 2019</a><br>This dataset gave us information on what kind of loans that students took out in 2019 and how much money they usually would takeout."
   ]
  },
  {
   "cell_type": "markdown",
   "metadata": {},
   "source": [
    "## Data Shape Before Cleaning"
   ]
  },
  {
   "cell_type": "markdown",
   "metadata": {},
   "source": [
    "In the College Scorecard Dataset, there are multiple data files which represent different years. In each file, there were about 1000 columns of different data types and acronyms and even more rows that represent all the different schools. Some of these columns were so specific that we disregarded the information that the column recorded. Also in the College Scorecard Dataset, we had many entries where the information was either null or PrivacySuppressed. Whenever this happened, we would eliminate the row entirely when we pulled information out of it, so it would not mess with our recorded data that we wanted.\n",
    "\n",
    "The cleaned code below is an example of the cleaning process we did where we would extract the specific columns we are interested in and remove the PrivacySuppressed."
   ]
  },
  {
   "cell_type": "markdown",
   "metadata": {},
   "source": [
    "## Cleaning Data Code"
   ]
  },
  {
   "cell_type": "code",
   "execution_count": 5,
   "metadata": {},
   "outputs": [
    {
     "name": "stderr",
     "output_type": "stream",
     "text": [
      "/Users/conwaydang/opt/anaconda3/lib/python3.7/site-packages/ipykernel_launcher.py:5: SettingWithCopyWarning: \n",
      "A value is trying to be set on a copy of a slice from a DataFrame.\n",
      "Try using .loc[row_indexer,col_indexer] = value instead\n",
      "\n",
      "See the caveats in the documentation: http://pandas.pydata.org/pandas-docs/stable/user_guide/indexing.html#returning-a-view-versus-a-copy\n",
      "  \"\"\"\n"
     ]
    }
   ],
   "source": [
    "import pandas as pd\n",
    "field_data = pd.read_csv('CollegeScorecard_Raw_Data/FieldOfStudyData1516_1617_PP.csv', low_memory = False)\n",
    "field_data = field_data[['INSTNM', 'MD_EARN_WNE','CIPDESC']]\n",
    "result = field_data[field_data.MD_EARN_WNE != 'PrivacySuppressed']\n",
    "result['MD_EARN_WNE'] = result['MD_EARN_WNE'].astype(int)\n",
    "result = result.groupby(['CIPDESC', 'INSTNM']).mean().astype(int).sort_values('CIPDESC')\n",
    "result\n",
    "\n",
    "result.to_csv(r'example_clean_data.csv')"
   ]
  },
  {
   "cell_type": "markdown",
   "metadata": {},
   "source": [
    "## Cleaned Data File"
   ]
  },
  {
   "cell_type": "code",
   "execution_count": 6,
   "metadata": {},
   "outputs": [
    {
     "data": {
      "text/html": [
       "<div>\n",
       "<style scoped>\n",
       "    .dataframe tbody tr th:only-of-type {\n",
       "        vertical-align: middle;\n",
       "    }\n",
       "\n",
       "    .dataframe tbody tr th {\n",
       "        vertical-align: top;\n",
       "    }\n",
       "\n",
       "    .dataframe thead th {\n",
       "        text-align: right;\n",
       "    }\n",
       "</style>\n",
       "<table border=\"1\" class=\"dataframe\">\n",
       "  <thead>\n",
       "    <tr style=\"text-align: right;\">\n",
       "      <th></th>\n",
       "      <th>CIPDESC</th>\n",
       "      <th>INSTNM</th>\n",
       "      <th>MD_EARN_WNE</th>\n",
       "    </tr>\n",
       "  </thead>\n",
       "  <tbody>\n",
       "    <tr>\n",
       "      <td>0</td>\n",
       "      <td>Accounting and Computer Science.</td>\n",
       "      <td>Lone Star College System</td>\n",
       "      <td>28100</td>\n",
       "    </tr>\n",
       "    <tr>\n",
       "      <td>1</td>\n",
       "      <td>Accounting and Related Services.</td>\n",
       "      <td>Southern Careers Institute-Pharr</td>\n",
       "      <td>19200</td>\n",
       "    </tr>\n",
       "    <tr>\n",
       "      <td>2</td>\n",
       "      <td>Accounting and Related Services.</td>\n",
       "      <td>Southern Careers Institute-San Antonio</td>\n",
       "      <td>19200</td>\n",
       "    </tr>\n",
       "    <tr>\n",
       "      <td>3</td>\n",
       "      <td>Accounting and Related Services.</td>\n",
       "      <td>Southern Illinois University-Carbondale</td>\n",
       "      <td>45850</td>\n",
       "    </tr>\n",
       "    <tr>\n",
       "      <td>4</td>\n",
       "      <td>Accounting and Related Services.</td>\n",
       "      <td>Southern Illinois University-Edwardsville</td>\n",
       "      <td>51350</td>\n",
       "    </tr>\n",
       "    <tr>\n",
       "      <td>...</td>\n",
       "      <td>...</td>\n",
       "      <td>...</td>\n",
       "      <td>...</td>\n",
       "    </tr>\n",
       "    <tr>\n",
       "      <td>38387</td>\n",
       "      <td>Zoology/Animal Biology.</td>\n",
       "      <td>Ohio State University-Main Campus</td>\n",
       "      <td>23400</td>\n",
       "    </tr>\n",
       "    <tr>\n",
       "      <td>38388</td>\n",
       "      <td>Zoology/Animal Biology.</td>\n",
       "      <td>Ohio University-Main Campus</td>\n",
       "      <td>27700</td>\n",
       "    </tr>\n",
       "    <tr>\n",
       "      <td>38389</td>\n",
       "      <td>Zoology/Animal Biology.</td>\n",
       "      <td>Oregon State University</td>\n",
       "      <td>20700</td>\n",
       "    </tr>\n",
       "    <tr>\n",
       "      <td>38390</td>\n",
       "      <td>Zoology/Animal Biology.</td>\n",
       "      <td>Miami University-Oxford</td>\n",
       "      <td>29300</td>\n",
       "    </tr>\n",
       "    <tr>\n",
       "      <td>38391</td>\n",
       "      <td>Zoology/Animal Biology.</td>\n",
       "      <td>Weber State University</td>\n",
       "      <td>23400</td>\n",
       "    </tr>\n",
       "  </tbody>\n",
       "</table>\n",
       "<p>38392 rows × 3 columns</p>\n",
       "</div>"
      ],
      "text/plain": [
       "                                CIPDESC  \\\n",
       "0      Accounting and Computer Science.   \n",
       "1      Accounting and Related Services.   \n",
       "2      Accounting and Related Services.   \n",
       "3      Accounting and Related Services.   \n",
       "4      Accounting and Related Services.   \n",
       "...                                 ...   \n",
       "38387           Zoology/Animal Biology.   \n",
       "38388           Zoology/Animal Biology.   \n",
       "38389           Zoology/Animal Biology.   \n",
       "38390           Zoology/Animal Biology.   \n",
       "38391           Zoology/Animal Biology.   \n",
       "\n",
       "                                          INSTNM  MD_EARN_WNE  \n",
       "0                       Lone Star College System        28100  \n",
       "1               Southern Careers Institute-Pharr        19200  \n",
       "2         Southern Careers Institute-San Antonio        19200  \n",
       "3        Southern Illinois University-Carbondale        45850  \n",
       "4      Southern Illinois University-Edwardsville        51350  \n",
       "...                                          ...          ...  \n",
       "38387          Ohio State University-Main Campus        23400  \n",
       "38388                Ohio University-Main Campus        27700  \n",
       "38389                    Oregon State University        20700  \n",
       "38390                    Miami University-Oxford        29300  \n",
       "38391                     Weber State University        23400  \n",
       "\n",
       "[38392 rows x 3 columns]"
      ]
     },
     "execution_count": 6,
     "metadata": {},
     "output_type": "execute_result"
    }
   ],
   "source": [
    "result = pd.read_csv('example_clean_data.csv')\n",
    "result"
   ]
  },
  {
   "cell_type": "markdown",
   "metadata": {},
   "source": [
    "TODO:\n",
    "1. Shape of data before cleaning\n",
    "2. A couple of the cleaning lines \n",
    "3. Cleaned Data File"
   ]
  },
  {
   "cell_type": "markdown",
   "metadata": {},
   "source": [
    "# Machine Learning"
   ]
  },
  {
   "cell_type": "markdown",
   "metadata": {},
   "source": [
    "TODO:\n",
    "1. Baseline classifier, just use median or something?\n",
    "1. Alex's Best Value SVM\n",
    "2. We need another ML model as well, I think a KNN model would work\n",
    "3. Include some code"
   ]
  },
  {
   "cell_type": "markdown",
   "metadata": {},
   "source": [
    "# Visualization"
   ]
  },
  {
   "cell_type": "markdown",
   "metadata": {},
   "source": [
    "![Loan Distribution Data](imgs/loan_dist.png)"
   ]
  },
  {
   "cell_type": "markdown",
   "metadata": {},
   "source": [
    "This visualizations shows us the most common amount of money taken in loans. This gives us insight on how much going to college costs and why it is a large financial decision to make for upcoming freshman.\n",
    "\n",
    "Visit https://datastudio.google.com/open/1g6G-O8LygSsjNdDV32BJNbLDH6IjJqIA to see our visualization for the student debt and student earnings (one year post graduation) by major and school in table form. \n",
    "\n",
    "This visualization provides an easy way for students to see their prospective choices for a school. This does not provide intution though as how schools compare to each other.\n",
    "\n",
    "For example, majoring in CS at Duke University the average earnings is 99,600 with a debt of 7,890. Majoring in CS at UIUC earns an average of 92,200 with a debt of 19,500. Comparing this to another university requires directly comparing the values which does not provide a good intution.\n",
    "\n",
    "Visit https://datastudio.google.com/u/0/reporting/1UYDnVQdFf6_hKf1z2TgFMWtHsNvXl8s6/page/5WZNB to see our visualization for \"Best Value\" schools on a map of the United States\n",
    "\n",
    "\"Best Value\" is where we took students major at each school and divided their earnings one year post graduation by their debt accumulated. This visualization provides prospective students to see what major at what schools provide the best value. You can search by state and by major.\n",
    "\n",
    "An example is I want to go to school in either Iowa, Illinois, or Indiana and major in Computer Science. The most vibrant blue dot would show the highest value. In this instance Northwestern University provides the best value."
   ]
  },
  {
   "cell_type": "markdown",
   "metadata": {},
   "source": [
    "# Results"
   ]
  },
  {
   "cell_type": "markdown",
   "metadata": {},
   "source": [
    "TODO:\n",
    "1. "
   ]
  }
 ],
 "metadata": {
  "kernelspec": {
   "display_name": "Python 3",
   "language": "python",
   "name": "python3"
  },
  "language_info": {
   "codemirror_mode": {
    "name": "ipython",
    "version": 3
   },
   "file_extension": ".py",
   "mimetype": "text/x-python",
   "name": "python",
   "nbconvert_exporter": "python",
   "pygments_lexer": "ipython3",
   "version": "3.7.4"
  }
 },
 "nbformat": 4,
 "nbformat_minor": 4
}
