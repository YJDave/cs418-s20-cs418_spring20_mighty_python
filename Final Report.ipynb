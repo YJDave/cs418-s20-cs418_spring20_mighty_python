{
 "cells": [
  {
   "cell_type": "markdown",
   "metadata": {},
   "source": [
    "# Eduworth Introduction"
   ]
  },
  {
   "cell_type": "markdown",
   "metadata": {},
   "source": [
    "Many high schoolers must decide on whether to continue their education after their graduation or not. There are many different paths and oppurtunities that come afterward, but the most encouraged path is to continue education in a college or a university. The problem with this path is that it is very expensive choice and will take many years to obtain the degree. \n",
    "\n",
    "Questions<br>\n",
    "Is college the most financially responsible post-secondary education option?<br>\n",
    "Does the major of the degree and industry matter when going into college?\n",
    "2. The steps of our project"
   ]
  },
  {
   "cell_type": "markdown",
   "metadata": {},
   "source": [
    "## Steps of Project"
   ]
  },
  {
   "cell_type": "markdown",
   "metadata": {},
   "source": [
    "1. Obtain Data\n",
    "2. Clean Data\n",
    "3. Build Visualizations\n",
    "4. Build/Train A Classification Machine Learning Model\n"
   ]
  },
  {
   "cell_type": "markdown",
   "metadata": {},
   "source": [
    "## Data Sources"
   ]
  },
  {
   "cell_type": "markdown",
   "metadata": {},
   "source": [
    "<a href=\"https://nces.ed.gov/datalab/index.aspx\">National Center for Education Statistics</a> allows us to select variables for the data that they collected from <a href=\"https://www.data.gov/education/\">data.gov</a> and place them onto a table for us to visualize.\n",
    "\n",
    "<a href=\"https://collegescorecard.ed.gov/data/\">College Scorecard</a><br>\n",
    "We used this dataset for finding out additional information regarding the performance of students in classes.<br>\n",
    "\n",
    "<a href=\"https://research.collegeboard.org/trends/student-aid\">Trends in Student Aid 2019</a><br>This dataset gave us information on what kind of loans that students took out in 2019 and how much money they usually would takeout."
   ]
  },
  {
   "cell_type": "markdown",
   "metadata": {},
   "source": [
    "## Data Shape Before Cleaning"
   ]
  },
  {
   "cell_type": "markdown",
   "metadata": {},
   "source": [
    "TODO:\n",
    "1. Shape of data before cleaning\n",
    "2. A couple of the cleaning lines \n",
    "3. Cleaned Data File"
   ]
  },
  {
   "cell_type": "markdown",
   "metadata": {},
   "source": [
    "# Machine Learning"
   ]
  },
  {
   "cell_type": "markdown",
   "metadata": {},
   "source": [
    "TODO:\n",
    "1. Baseline classifier, just use median or something?\n",
    "1. Alex's Best Value SVM\n",
    "2. We need another ML model as well, I think a KNN model would work\n",
    "3. Include some code"
   ]
  },
  {
   "cell_type": "markdown",
   "metadata": {},
   "source": [
    "# Visualization"
   ]
  },
  {
   "cell_type": "markdown",
   "metadata": {},
   "source": [
    "TODO:\n",
    "1. https://datastudio.google.com/u/0/reporting/1UYDnVQdFf6_hKf1z2TgFMWtHsNvXl8s6/page/5WZNB Best Value on Map by Major and School\n",
    "2. https://datastudio.google.com/open/1g6G-O8LygSsjNdDV32BJNbLDH6IjJqIA Earnings and Debt by School\n",
    "3. Pie Chart of various debt levels in V4 slideshow"
   ]
  },
  {
   "cell_type": "markdown",
   "metadata": {},
   "source": [
    "# Results"
   ]
  },
  {
   "cell_type": "markdown",
   "metadata": {},
   "source": [
    "TODO:\n",
    "1. "
   ]
  }
 ],
 "metadata": {
  "kernelspec": {
   "display_name": "Python 3",
   "language": "python",
   "name": "python3"
  },
  "language_info": {
   "codemirror_mode": {
    "name": "ipython",
    "version": 3
   },
   "file_extension": ".py",
   "mimetype": "text/x-python",
   "name": "python",
   "nbconvert_exporter": "python",
   "pygments_lexer": "ipython3",
   "version": "3.7.4"
  }
 },
 "nbformat": 4,
 "nbformat_minor": 4
}
