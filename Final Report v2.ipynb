{
 "cells": [
  {
   "cell_type": "markdown",
   "metadata": {},
   "source": [
    "# Eduworth"
   ]
  },
  {
   "cell_type": "markdown",
   "metadata": {},
   "source": [
    "## Introduction\n",
    "Total **3.9 million student** students will be graduating in 2019 which is **35%** of total U.S. population. \n",
    "The most encouraged path after high school is to continue education in college. There are total **7000+** universities and **300+** majors offered after post secondary education in US. As the post secondary enrollments increases over time, graduate expenses and student debts also grows. In 2019 year, total amount of student loan debt is **$1.64 trillion!** The rate of student debt delinquency is highest and growing compare to any other type of loan. Therefore, student must make an informed decision about different opportunities offered after high school about university, major, student debt etc.\n",
    "\n",
    "The project tries to address following questions: \n",
    "1) Is college the most financially responsible post-secondary education option?<br>\n",
    "2) Does the major of the degree and industry matter when going into college? 3) What can we predict with the data we have?"
   ]
  },
  {
   "cell_type": "markdown",
   "metadata": {},
   "source": [
    "## Data Sources"
   ]
  },
  {
   "cell_type": "markdown",
   "metadata": {},
   "source": [
    "1. <a href=\"https://nces.ed.gov/datalab/index.aspx\">National Center for Education Statistics</a> allows us to select variables for the data that they collected from <a href=\"https://www.data.gov/education/\">data.gov</a> and place them onto a table for us to visualize.\n",
    "This dataset allows to create dynamic multiple table of information as per requirement, i.e. Student enrollment in different fields with years. We have cleaned and stored the table values in csv file in `data/` directory. \n",
    "\n",
    "2. <a href=\"https://collegescorecard.ed.gov/data/\">College Scorecard</a><br>\n",
    "We used this dataset for finding out additional information regarding the performance of students in classes.\n",
    "This dataset stores number of files which has the data related to university over 1996-2019 year. Each file contains data for a specific year and each column in file contains all values for university course i.e. UG enrollment, debt, earning etc. The dataset is cleaned using `sean-eda.ipynb` to create interactive visualizations and ML model.\n",
    "\n",
    "3. <a href=\"https://research.collegeboard.org/trends/student-aid\">Trends in Student Aid 2019</a><br>This dataset gave us information on what kind of loans that students took out in 2019 and how much money they usually would takeout. Like (1) this dataset allows to create multiple table related to student debt which are stored in `data/`\n",
    "\n",
    "NOTE:\n",
    "More details about different data tables structure and data cleaning of CollegeScoreBoard data in `README.md`\n",
    "All the data is from U.S. official therefore, accurate and trustworthy of time span 1997-2018 years"
   ]
  },
  {
   "cell_type": "markdown",
   "metadata": {},
   "source": [
    "Dataframs from source (1) and (3) are small (50 rows) comparitively (38392 rows in (2)) requires very minor cleaning which was done manully. \n",
    "For datasource, CollegeScoreBoard dataset(2) is cleaned as following: \n",
    "There are 1000 columns of different data types and acronyms and even more rows in each file that represent all the different schools. We disregarded the not-required columns and recorded. There are large portions of the data that are \"PrivacySuppressed” which do not disclose any information. Therefore, the rows with either null or PrivacySuppressed values are eliminated entirely. We needed to combine the earnings data with that statistics for each school which required the use of ```pd.merge```. This resulted in our final cleaned data file."
   ]
  },
  {
   "cell_type": "code",
   "execution_count": 1,
   "metadata": {},
   "outputs": [
    {
     "data": {
      "text/html": [
       "<div>\n",
       "<style scoped>\n",
       "    .dataframe tbody tr th:only-of-type {\n",
       "        vertical-align: middle;\n",
       "    }\n",
       "\n",
       "    .dataframe tbody tr th {\n",
       "        vertical-align: top;\n",
       "    }\n",
       "\n",
       "    .dataframe thead th {\n",
       "        text-align: right;\n",
       "    }\n",
       "</style>\n",
       "<table border=\"1\" class=\"dataframe\">\n",
       "  <thead>\n",
       "    <tr style=\"text-align: right;\">\n",
       "      <th></th>\n",
       "      <th></th>\n",
       "      <th>MD_EARN_WNE</th>\n",
       "    </tr>\n",
       "    <tr>\n",
       "      <th>CIPDESC</th>\n",
       "      <th>INSTNM</th>\n",
       "      <th></th>\n",
       "    </tr>\n",
       "  </thead>\n",
       "  <tbody>\n",
       "    <tr>\n",
       "      <th>Accounting and Computer Science.</th>\n",
       "      <th>Lone Star College System</th>\n",
       "      <td>28100</td>\n",
       "    </tr>\n",
       "    <tr>\n",
       "      <th rowspan=\"2\" valign=\"top\">Accounting and Related Services.</th>\n",
       "      <th>Southern Careers Institute-Pharr</th>\n",
       "      <td>19200</td>\n",
       "    </tr>\n",
       "    <tr>\n",
       "      <th>Southern Careers Institute-San Antonio</th>\n",
       "      <td>19200</td>\n",
       "    </tr>\n",
       "  </tbody>\n",
       "</table>\n",
       "</div>"
      ],
      "text/plain": [
       "                                                                         MD_EARN_WNE\n",
       "CIPDESC                          INSTNM                                             \n",
       "Accounting and Computer Science. Lone Star College System                      28100\n",
       "Accounting and Related Services. Southern Careers Institute-Pharr              19200\n",
       "                                 Southern Careers Institute-San Antonio        19200"
      ]
     },
     "execution_count": 1,
     "metadata": {},
     "output_type": "execute_result"
    }
   ],
   "source": [
    "import pandas as pd\n",
    "pd.set_option('mode.chained_assignment', None)\n",
    "field_data = pd.read_csv('data/FieldOfStudyData1516_1617_PP.csv', low_memory = False)\n",
    "field_data = field_data[['INSTNM', 'MD_EARN_WNE','CIPDESC']]\n",
    "result = field_data[field_data.MD_EARN_WNE != 'PrivacySuppressed']\n",
    "result['MD_EARN_WNE'] = result['MD_EARN_WNE'].astype(int)\n",
    "result = result.groupby(['CIPDESC', 'INSTNM']).mean().astype(int).sort_values('CIPDESC')\n",
    "result[:3]"
   ]
  },
  {
   "cell_type": "code",
   "execution_count": 2,
   "metadata": {},
   "outputs": [
    {
     "data": {
      "text/html": [
       "<div>\n",
       "<style scoped>\n",
       "    .dataframe tbody tr th:only-of-type {\n",
       "        vertical-align: middle;\n",
       "    }\n",
       "\n",
       "    .dataframe tbody tr th {\n",
       "        vertical-align: top;\n",
       "    }\n",
       "\n",
       "    .dataframe thead th {\n",
       "        text-align: right;\n",
       "    }\n",
       "</style>\n",
       "<table border=\"1\" class=\"dataframe\">\n",
       "  <thead>\n",
       "    <tr style=\"text-align: right;\">\n",
       "      <th></th>\n",
       "      <th>INSTNM</th>\n",
       "      <th>ST_FIPS</th>\n",
       "      <th>STABBR</th>\n",
       "      <th>LATITUDE</th>\n",
       "      <th>LONGITUDE</th>\n",
       "      <th>SAT_AVG</th>\n",
       "      <th>UNITID</th>\n",
       "      <th>OPEID6</th>\n",
       "      <th>CONTROL</th>\n",
       "      <th>MAIN</th>\n",
       "      <th>...</th>\n",
       "      <th>COUNT</th>\n",
       "      <th>DEBTMEDIAN</th>\n",
       "      <th>DEBTPAYMENT10YR</th>\n",
       "      <th>DEBTMEAN</th>\n",
       "      <th>TITLEIVCOUNT</th>\n",
       "      <th>EARNINGSCOUNT</th>\n",
       "      <th>MD_EARN_WNE</th>\n",
       "      <th>IPEDSCOUNT1</th>\n",
       "      <th>IPEDSCOUNT2</th>\n",
       "      <th>BESTVALUE</th>\n",
       "    </tr>\n",
       "  </thead>\n",
       "  <tbody>\n",
       "    <tr>\n",
       "      <th>0</th>\n",
       "      <td>Alabama A &amp; M University</td>\n",
       "      <td>1</td>\n",
       "      <td>AL</td>\n",
       "      <td>34.783368</td>\n",
       "      <td>-86.568502</td>\n",
       "      <td>929.0</td>\n",
       "      <td>100654.0</td>\n",
       "      <td>1002</td>\n",
       "      <td>Public</td>\n",
       "      <td>1</td>\n",
       "      <td>...</td>\n",
       "      <td>25</td>\n",
       "      <td>36250</td>\n",
       "      <td>376</td>\n",
       "      <td>37194</td>\n",
       "      <td>33</td>\n",
       "      <td>33</td>\n",
       "      <td>54300</td>\n",
       "      <td>17.0</td>\n",
       "      <td>16.0</td>\n",
       "      <td>1.497931</td>\n",
       "    </tr>\n",
       "    <tr>\n",
       "      <th>1</th>\n",
       "      <td>Alabama A &amp; M University</td>\n",
       "      <td>1</td>\n",
       "      <td>AL</td>\n",
       "      <td>34.783368</td>\n",
       "      <td>-86.568502</td>\n",
       "      <td>929.0</td>\n",
       "      <td>100654.0</td>\n",
       "      <td>1002</td>\n",
       "      <td>Public</td>\n",
       "      <td>1</td>\n",
       "      <td>...</td>\n",
       "      <td>46</td>\n",
       "      <td>31505</td>\n",
       "      <td>327</td>\n",
       "      <td>33085</td>\n",
       "      <td>32</td>\n",
       "      <td>31</td>\n",
       "      <td>25400</td>\n",
       "      <td>24.0</td>\n",
       "      <td>33.0</td>\n",
       "      <td>0.806221</td>\n",
       "    </tr>\n",
       "    <tr>\n",
       "      <th>2</th>\n",
       "      <td>Alabama A &amp; M University</td>\n",
       "      <td>1</td>\n",
       "      <td>AL</td>\n",
       "      <td>34.783368</td>\n",
       "      <td>-86.568502</td>\n",
       "      <td>929.0</td>\n",
       "      <td>100654.0</td>\n",
       "      <td>1002</td>\n",
       "      <td>Public</td>\n",
       "      <td>1</td>\n",
       "      <td>...</td>\n",
       "      <td>22</td>\n",
       "      <td>34809</td>\n",
       "      <td>361</td>\n",
       "      <td>36482</td>\n",
       "      <td>33</td>\n",
       "      <td>31</td>\n",
       "      <td>54500</td>\n",
       "      <td>19.0</td>\n",
       "      <td>11.0</td>\n",
       "      <td>1.565687</td>\n",
       "    </tr>\n",
       "    <tr>\n",
       "      <th>3</th>\n",
       "      <td>Alabama A &amp; M University</td>\n",
       "      <td>1</td>\n",
       "      <td>AL</td>\n",
       "      <td>34.783368</td>\n",
       "      <td>-86.568502</td>\n",
       "      <td>929.0</td>\n",
       "      <td>100654.0</td>\n",
       "      <td>1002</td>\n",
       "      <td>Public</td>\n",
       "      <td>1</td>\n",
       "      <td>...</td>\n",
       "      <td>PrivacySuppressed</td>\n",
       "      <td>36928</td>\n",
       "      <td>383</td>\n",
       "      <td>38900</td>\n",
       "      <td>24</td>\n",
       "      <td>24</td>\n",
       "      <td>45800</td>\n",
       "      <td>13.0</td>\n",
       "      <td>17.0</td>\n",
       "      <td>1.240251</td>\n",
       "    </tr>\n",
       "  </tbody>\n",
       "</table>\n",
       "<p>4 rows × 24 columns</p>\n",
       "</div>"
      ],
      "text/plain": [
       "                     INSTNM  ST_FIPS STABBR   LATITUDE  LONGITUDE  SAT_AVG  \\\n",
       "0  Alabama A & M University        1     AL  34.783368 -86.568502    929.0   \n",
       "1  Alabama A & M University        1     AL  34.783368 -86.568502    929.0   \n",
       "2  Alabama A & M University        1     AL  34.783368 -86.568502    929.0   \n",
       "3  Alabama A & M University        1     AL  34.783368 -86.568502    929.0   \n",
       "\n",
       "     UNITID  OPEID6 CONTROL  MAIN  ...              COUNT DEBTMEDIAN  \\\n",
       "0  100654.0    1002  Public     1  ...                 25      36250   \n",
       "1  100654.0    1002  Public     1  ...                 46      31505   \n",
       "2  100654.0    1002  Public     1  ...                 22      34809   \n",
       "3  100654.0    1002  Public     1  ...  PrivacySuppressed      36928   \n",
       "\n",
       "   DEBTPAYMENT10YR DEBTMEAN TITLEIVCOUNT  EARNINGSCOUNT  MD_EARN_WNE  \\\n",
       "0              376    37194           33             33        54300   \n",
       "1              327    33085           32             31        25400   \n",
       "2              361    36482           33             31        54500   \n",
       "3              383    38900           24             24        45800   \n",
       "\n",
       "  IPEDSCOUNT1 IPEDSCOUNT2 BESTVALUE  \n",
       "0        17.0        16.0  1.497931  \n",
       "1        24.0        33.0  0.806221  \n",
       "2        19.0        11.0  1.565687  \n",
       "3        13.0        17.0  1.240251  \n",
       "\n",
       "[4 rows x 24 columns]"
      ]
     },
     "execution_count": 2,
     "metadata": {},
     "output_type": "execute_result"
    }
   ],
   "source": [
    "result = pd.read_csv('data/best_value_data.csv')\n",
    "result[:4]"
   ]
  },
  {
   "cell_type": "markdown",
   "metadata": {},
   "source": [
    "# EDA and Data Visualization"
   ]
  },
  {
   "attachments": {},
   "cell_type": "markdown",
   "metadata": {},
   "source": [
    "![student_debt.png](student_debt.png)"
   ]
  },
  {
   "attachments": {},
   "cell_type": "markdown",
   "metadata": {},
   "source": [
    "![pie_chart.png](pie_chart.png)"
   ]
  },
  {
   "cell_type": "markdown",
   "metadata": {},
   "source": [
    "**Visualization Takeaway**\n",
    "1. ~30% of students have 10-25k student loan amount in 2014.\n",
    "2. Most of the student graduates from Public universities and 50% students pursue Bachelor's degree.\n",
    "3. The growth rate of graduation program tuition fees is higher than the growth rate of inflation in U.S. \n",
    "4. Student loan delinquent rate is growing higher than any other loan debts over the 2003-2019 years\n",
    "5. The Student loan debt is increasing with amount over the years 2004-2014"
   ]
  },
  {
   "attachments": {},
   "cell_type": "markdown",
   "metadata": {},
   "source": [
    "![majo_selection.png](majo_selection.png)"
   ]
  },
  {
   "cell_type": "markdown",
   "metadata": {},
   "source": [
    "Visit https://datastudio.google.com/open/1g6G-O8LygSsjNdDV32BJNbLDH6IjJqIA to see our visualization for the student debt and student earnings (one year post graduation) by major and school in table form. \n",
    "\n",
    "This visualization provides an easy way for students to see their prospective choices for a school. This does not provide intution though as how schools compare to each other.\n",
    "\n",
    "For example, majoring in CS at Duke University the average earnings is 99,600 with a debt of 7,890. Majoring in CS at UIUC earns an average of 92,200 with a debt of 19,500. Comparing this to another university requires directly comparing the values which does not provide a good intution."
   ]
  },
  {
   "attachments": {},
   "cell_type": "markdown",
   "metadata": {},
   "source": [
    "![best_value.png](best_value.png)"
   ]
  },
  {
   "cell_type": "markdown",
   "metadata": {},
   "source": [
    "Visit https://datastudio.google.com/u/0/reporting/1UYDnVQdFf6_hKf1z2TgFMWtHsNvXl8s6/page/5WZNB to see our visualization for \"Best Value\" schools on a map of the United States\n",
    "\n",
    "\"Best Value\" is where we took students major at each school and divided their earnings one year post graduation by their debt accumulated. This visualization provides prospective students to see what major at what schools provide the best value. You can search by state and by major.\n",
    "\n",
    "An example is I want to go to school in either Iowa, Illinois, or Indiana and major in Computer Science. The most vibrant blue dot would show the highest value. In this instance Northwestern University provides the best value.\n",
    "More EDA and implementation of first two visualization of student enrollment, student debt and graduation related trends are in `main.ipynb`. The preprocessing of the last two interactive visualization can be found `sean-eda.ipynb`"
   ]
  },
  {
   "cell_type": "markdown",
   "metadata": {},
   "source": [
    "# Machine Learning\n",
    "\n",
    "1. Classify the schools, majors and school+major using **SVM** and **K-Nearest Neighbors** models. SVM provided better accuracy than K-Nearest Neighbors\n",
    "\n",
    "| Model | Accuracy | \n",
    "|-------|----------|\n",
    "| Baseline Classifier | 0.5209 |\n",
    "| KNN | 0.9090 |\n",
    "| SVM | 0.9565 |\n",
    "\n",
    "\n",
    "2. Predict largest major enrollment and diversity in overall enrollment at UIC in the year 2030 using **Tensorflow-Sequential** and **sklearn-LinearRegression** models. sklearn-LinearRegression provided better accuracy than Tensorflow-Sequential on average\n",
    "\n",
    "| Model | MSE(Mean Square Error) | \n",
    "|-------|----------|\n",
    "| Baseline Classifier | 0.4822 MSE |\n",
    "| Tensorflow-Sequential | 0.00071866 MSE |\n",
    "| sklearn-LinearRegression | 0.0001383 MSE |\n",
    "\n"
   ]
  },
  {
   "cell_type": "markdown",
   "metadata": {},
   "source": [
    "### 1. Classification of schools and majors\n",
    "\n",
    "To make classification possible, we needed to add some values to classify on. We were looking at the best value schools and deemed that a value of 1.5 and above would result in a sufficient amount of money to pay off your loans. So a True/False category was added into our dataframe. We tried 3 different parameter sets, (Major), (School), and (School Average)\n",
    "\n",
    "Our baseline classifier for each of these was the DummyClassifier provided by ```sklearn```\n",
    "\n",
    "Using the following script, one can generate the graphs shown below for classification tasks. Step-step implementation of the model can be found in `SVM_learner.ipynb`"
   ]
  },
  {
   "cell_type": "code",
   "execution_count": null,
   "metadata": {},
   "outputs": [
    {
     "name": "stdout",
     "output_type": "stream",
     "text": [
      "Baseline Classifier Accuracy: 0.5507246376811594\n",
      "SVM Accuracy: 0.9565217391304348\n"
     ]
    },
    {
     "data": {
      "image/png": "[encoded data removed]",
      "text/plain": [
       "<Figure size 360x360 with 1 Axes>"
      ]
     },
     "metadata": {
      "needs_background": "light"
     },
     "output_type": "display_data"
    },
    {
     "name": "stdout",
     "output_type": "stream",
     "text": [
      "Baseline Classifier Accuracy: 0.49004285354171917\n"
     ]
    }
   ],
   "source": [
    "from classifierClasses import *\n",
    "ClassifyByMajor()  # Classification of different majors\n",
    "ClassifyByAllSchools()  # Classification of different schools and their majors\n",
    "ClassifyBySchool()  # Classification of schools\n",
    "KNNClassifyByAllSchools()  # Classification using KNN"
   ]
  },
  {
   "cell_type": "markdown",
   "metadata": {},
   "source": [
    "Our 1.5 value that we based our classification on is stating that this school or major or both is considered a good deal if the average salary is 1.5 that of the average debt. For each entree in each data set we determined this as a boolean true or false value. We ran the SVM classification on 3 sets of data: all schools and their available majors, group by major, group by school. We also ran the KNN classifier on the data set of all schools and their available majors. For each data set we trained the model using 3 features: the average salary, the average debt, and the good investment. We are predicting if given a school, major, or both is a finnacial good investment based on the salary and debt one is likely to graduate with.\n",
    "\n",
    "### 2. Predict enrollment trend at UIC in 2030\n",
    "\n",
    "This model is linear regression model to predict the trends of enrollment in different major at UIC after ten years. We have used the CollegeScoreBoard dataset, which provides the enrollments at UIC from year 1997-2019 in different major. We have first extracted UIC data from all csv files of different year using script present in `main.ipynb`.\n",
    "\n",
    "Once we loaded the dataset, we have trained two different model on these data. Data is divided into 80-20 ratio for train-test. `sklearn-LinearRegression` model performed better. Using this model we predicted the % of women enrollment in 2030 at UIC and % of total enrollment in majors. The model predicted the Biology and Biomedical Sciences field as the largest number of graduates in 2030 at UIC.\n",
    "Results from the `sklearn-LinearRegression` model is:\n",
    "```\n",
    "UGDS_WOMEN (Total share of enrollment of undergraduate): [0.47394529] with 0.9998616049654727 model accuracy\n",
    "PCIP14 (Engineering): [0.07964474] with 0.9986632526877136 model accuracy\n",
    "PCIP13 (Education): [0.02073632] with 0.9998491819905497 model accuracy\n",
    "PCIP04 (Architecture And Related Services): [0.00564263] with 0.9999887105955678 model accuracy\n",
    "PCIP23 (English Language And Literature/Letters): [9.84210526e-05] with 0.9999986375060621 model accuracy\n",
    "PCIP26 (Biological And Biomedical Sciences): [0.18579421] with 0.9999733050205005 model accuracy\n",
    "PCIP27 (Mathematics And Statistics): [0.01955632] with 0.9999819618702489 model accuracy\n",
    "PCIP38 (Philosophy And Religious Studies): [0.00508895] with 0.9999920486317391 model accuracy\n",
    "PCIP42 (Psychology): [0.17592526] with 0.9995786498511222 model accuracy\n",
    "PCIP52 (Business, Management, Marketing): [0.14185684] with 0.9998232135106789 model accuracy\n",
    "PCIP54 (History): [0.01673842] with 0.9999252473231763 model accuracy\n",
    "```\n",
    "More details about the implementation of the model can be found in `main.ipynb`"
   ]
  },
  {
   "cell_type": "markdown",
   "metadata": {},
   "source": [
    "\n",
    "\n",
    "## Model Results"
   ]
  },
  {
   "attachments": {},
   "cell_type": "markdown",
   "metadata": {},
   "source": [
    "![model_results.jpg](model_results.jpg)"
   ]
  },
  {
   "cell_type": "markdown",
   "metadata": {},
   "source": [
    "First three visualization shows result from the classification ML model. Each graph contains a decision bounder with the points circled black are in a support vector. They are too crowded to see the support vector boundary but they are there.\n",
    "\n",
    "Second visualization shows result from linear regression model about the women enrollment. As we can see that both model Tensorflow and sklearn predicted contradict results, although both trained and tested on same data. It might be issue of lack of enough training data.\n"
   ]
  },
  {
   "cell_type": "markdown",
   "metadata": {},
   "source": [
    "# Results"
   ]
  },
  {
   "cell_type": "markdown",
   "metadata": {},
   "source": [
    "When high schoolers decide on what college they want to go to, they should first consider what degree they are trying to pursue. The visualization build in this project help them to understand the possible outcome of graduation, student debt and help to find the best value college, or major according to their preferences. \n",
    "The machine learning models are classifying the colleges and majors into two categories of best value or not. The other one is trying to predict the possible future enrollment trends at UIC. The future work can be merging employment data with student enrollment data published on CollegeScoreBoard dataset for visualization of major enrollments, dropouts, employments in different location, salaries distribution etc."
   ]
  }
 ],
 "metadata": {
  "kernelspec": {
   "display_name": "Python 3",
   "language": "python",
   "name": "python3"
  },
  "language_info": {
   "codemirror_mode": {
    "name": "ipython",
    "version": 3
   },
   "file_extension": ".py",
   "mimetype": "text/x-python",
   "name": "python",
   "nbconvert_exporter": "python",
   "pygments_lexer": "ipython3",
   "version": "3.7.6"
  }
 },
 "nbformat": 4,
 "nbformat_minor": 4
}
